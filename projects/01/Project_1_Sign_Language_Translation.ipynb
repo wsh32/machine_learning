{
  "nbformat": 4,
  "nbformat_minor": 0,
  "metadata": {
    "colab": {
      "name": "Project 1 - Sign Language Translation.ipynb",
      "provenance": [],
      "collapsed_sections": [],
      "include_colab_link": true
    },
    "kernelspec": {
      "name": "python3",
      "display_name": "Python 3"
    },
    "language_info": {
      "name": "python"
    },
    "accelerator": "GPU"
  },
  "cells": [
    {
      "cell_type": "markdown",
      "metadata": {
        "id": "view-in-github",
        "colab_type": "text"
      },
      "source": [
        "<a href=\"https://colab.research.google.com/github/wsh32/machine_learning/blob/main/projects/01/Project_1_Sign_Language_Translation.ipynb\" target=\"_parent\"><img src=\"https://colab.research.google.com/assets/colab-badge.svg\" alt=\"Open In Colab\"/></a>"
      ]
    },
    {
      "cell_type": "markdown",
      "metadata": {
        "id": "kk0yZldc0sYU"
      },
      "source": [
        "# **Project 1: Sign Language Translation**\n",
        "Wesley Soo-Hoo and Justin Yuan\n",
        "\n",
        "Machine Learning FA2021"
      ]
    },
    {
      "cell_type": "markdown",
      "metadata": {
        "id": "Ed-dR6bw4Gff"
      },
      "source": [
        "## Introduction\n",
        "According to the WHO, about 5% of the world population suffers from some hearing loss, and within that, somewhere between 250,000 and 500,000 people use American Sign Language as a form of communication (Source: https://www.gallaudet.edu/documents/Research-Support-and-International-Affairs/ASL_Users.pdf). For our first project in Machine Learning, we're interested in building an algorithm that can classify images of hand signs based on their English alphabet translation. To accomplish this, we will base our project on the Sign Lanugage MNIST dataset, a free and publicly available collection of labeled ASL hand sign images. \n",
        "\n",
        "As we work on this, here are some of the **questions** we will keep in mind:\n",
        "\n",
        "\n",
        "*   How does background noise affect the model accuracy?\n",
        "*   How would hand-signs with different skin colors affect the results of this model?\n",
        "\n",
        "\n"
      ]
    },
    {
      "cell_type": "markdown",
      "metadata": {
        "id": "JZiX9HE01IdU"
      },
      "source": [
        "Before we start the project, we want to document each of the team member's **learning goals:**\n",
        "\n",
        "**Wesley**:\n",
        "* Learn how to use pytorch to implement a Neural Network\n",
        "* Gain a better understanding and intuition about the tuning knobs involved in optimizing a neural network\n",
        "\n",
        "\n",
        "**Justin**:\n",
        "\n",
        "*   Be able to implement, train, and test a neural network application from scratch\n",
        "** After completing the homework assignments, I feel pretty comfortable with the mathematical theory (at least at a high level). However, I don't feel as confident with implemeting the theory in an empty notebook.\n",
        "*   Quickly achieve a strong MVP, and work to broaden scope after\n",
        "** I don't want to overscope from the get-go as I've done in the past. \n",
        "\n",
        "\n",
        "\n",
        "\n",
        "\n",
        "\n",
        "\n",
        "---\n",
        "\n"
      ]
    },
    {
      "cell_type": "markdown",
      "metadata": {
        "id": "mJgoQy2_qW8d"
      },
      "source": [
        "## Implementation\n",
        "This notebook requires the following libraries:"
      ]
    },
    {
      "cell_type": "code",
      "metadata": {
        "colab": {
          "base_uri": "https://localhost:8080/"
        },
        "id": "NErA4CZDOnye",
        "outputId": "f17f86d4-ce0e-4248-e00d-526421a26066"
      },
      "source": [
        "!pip install torchviz"
      ],
      "execution_count": null,
      "outputs": [
        {
          "output_type": "stream",
          "name": "stdout",
          "text": [
            "Collecting torchviz\n",
            "  Downloading torchviz-0.0.2.tar.gz (4.9 kB)\n",
            "Requirement already satisfied: torch in /usr/local/lib/python3.7/dist-packages (from torchviz) (1.9.0+cu111)\n",
            "Requirement already satisfied: graphviz in /usr/local/lib/python3.7/dist-packages (from torchviz) (0.10.1)\n",
            "Requirement already satisfied: typing-extensions in /usr/local/lib/python3.7/dist-packages (from torch->torchviz) (3.7.4.3)\n",
            "Building wheels for collected packages: torchviz\n",
            "  Building wheel for torchviz (setup.py) ... \u001b[?25l\u001b[?25hdone\n",
            "  Created wheel for torchviz: filename=torchviz-0.0.2-py3-none-any.whl size=4151 sha256=8ff0728a692626a2d1330d3285cc3fd04b71bc4679dbad136a9c627450ec5597\n",
            "  Stored in directory: /root/.cache/pip/wheels/04/38/f5/dc4f85c3909051823df49901e72015d2d750bd26b086480ec2\n",
            "Successfully built torchviz\n",
            "Installing collected packages: torchviz\n",
            "Successfully installed torchviz-0.0.2\n"
          ]
        }
      ]
    },
    {
      "cell_type": "code",
      "metadata": {
        "id": "kA9xzMng4K1r"
      },
      "source": [
        "import torch\n",
        "import numpy as np\n",
        "import pandas as pd\n",
        "import gdown\n",
        "import matplotlib.pyplot as plt\n",
        "from torch import nn\n",
        "from torch.autograd import Variable\n",
        "from torchviz import make_dot\n",
        "from torch.utils.data.sampler import SubsetRandomSampler\n",
        "import torch.optim as optim\n",
        "from torch.utils.data import Dataset\n",
        "import time\n",
        "import os\n",
        "import cv2"
      ],
      "execution_count": null,
      "outputs": []
    },
    {
      "cell_type": "markdown",
      "metadata": {
        "id": "TBP7AaMp5Q-T"
      },
      "source": [
        "## Exploring the Dataset"
      ]
    },
    {
      "cell_type": "markdown",
      "metadata": {
        "id": "BG87pIlYqWGo"
      },
      "source": [
        "To begin, we’ll start by downloading the Sign Language MNIST dataset (Source: https://www.kaggle.com/datamunge/sign-language-mnist). It contains 27,455 training cases and 7172 testing cases. Each case is represented as a 28x28 pixel image of a hand sign labeled with an integer between 0 and 25 corresponding to letters (0 = ‘A’ , 25 = ‘Z’). J and Z were excluded because signing them requires motion."
      ]
    },
    {
      "cell_type": "code",
      "metadata": {
        "colab": {
          "base_uri": "https://localhost:8080/"
        },
        "id": "Jz5U9RWJ5cM8",
        "outputId": "5b9e7da9-f8b7-47ac-d391-e06e0af8cd43"
      },
      "source": [
        "# Download the Sign Language MNIST Dataset\n",
        "gdown.download('https://drive.google.com/uc?authuser=0&id=1puMJ6dslXk_oNv6_XbTFXyh9xAyD0bSS&export=download', \n",
        "               'dataset.zip', quiet=False)\n",
        "\n",
        "!unzip -qq -o dataset.zip"
      ],
      "execution_count": null,
      "outputs": [
        {
          "output_type": "stream",
          "name": "stderr",
          "text": [
            "Downloading...\n",
            "From: https://drive.google.com/uc?authuser=0&id=1puMJ6dslXk_oNv6_XbTFXyh9xAyD0bSS&export=download\n",
            "To: /content/dataset.zip\n",
            "100%|██████████| 65.6M/65.6M [00:01<00:00, 33.8MB/s]\n"
          ]
        }
      ]
    },
    {
      "cell_type": "code",
      "metadata": {
        "id": "qcxDsWQo5pWx"
      },
      "source": [
        "# Size of Image and Labeling Classes:\n",
        "image_dims = 1, 28, 28 # 28x28 images\n",
        "classes = ('a','b','c','d','e','f','g','h','i', 'j','k','l','m','n','o','p','q',\n",
        "           'r','s','t','u','v','w','x','y') # missing J and Z because those require gestures"
      ],
      "execution_count": null,
      "outputs": []
    },
    {
      "cell_type": "code",
      "metadata": {
        "id": "FZWrHPGqDZls",
        "colab": {
          "base_uri": "https://localhost:8080/",
          "height": 253
        },
        "outputId": "b01ffd47-1b52-451c-e850-bc4a149bd9cc"
      },
      "source": [
        "# Organizing Dataset into a Pandas Dataframe \n",
        "df = pd.read_csv('sign_mnist_train.csv')\n",
        "df.head()"
      ],
      "execution_count": null,
      "outputs": [
        {
          "output_type": "execute_result",
          "data": {
            "text/html": [
              "<div>\n",
              "<style scoped>\n",
              "    .dataframe tbody tr th:only-of-type {\n",
              "        vertical-align: middle;\n",
              "    }\n",
              "\n",
              "    .dataframe tbody tr th {\n",
              "        vertical-align: top;\n",
              "    }\n",
              "\n",
              "    .dataframe thead th {\n",
              "        text-align: right;\n",
              "    }\n",
              "</style>\n",
              "<table border=\"1\" class=\"dataframe\">\n",
              "  <thead>\n",
              "    <tr style=\"text-align: right;\">\n",
              "      <th></th>\n",
              "      <th>label</th>\n",
              "      <th>pixel1</th>\n",
              "      <th>pixel2</th>\n",
              "      <th>pixel3</th>\n",
              "      <th>pixel4</th>\n",
              "      <th>pixel5</th>\n",
              "      <th>pixel6</th>\n",
              "      <th>pixel7</th>\n",
              "      <th>pixel8</th>\n",
              "      <th>pixel9</th>\n",
              "      <th>pixel10</th>\n",
              "      <th>pixel11</th>\n",
              "      <th>pixel12</th>\n",
              "      <th>pixel13</th>\n",
              "      <th>pixel14</th>\n",
              "      <th>pixel15</th>\n",
              "      <th>pixel16</th>\n",
              "      <th>pixel17</th>\n",
              "      <th>pixel18</th>\n",
              "      <th>pixel19</th>\n",
              "      <th>pixel20</th>\n",
              "      <th>pixel21</th>\n",
              "      <th>pixel22</th>\n",
              "      <th>pixel23</th>\n",
              "      <th>pixel24</th>\n",
              "      <th>pixel25</th>\n",
              "      <th>pixel26</th>\n",
              "      <th>pixel27</th>\n",
              "      <th>pixel28</th>\n",
              "      <th>pixel29</th>\n",
              "      <th>pixel30</th>\n",
              "      <th>pixel31</th>\n",
              "      <th>pixel32</th>\n",
              "      <th>pixel33</th>\n",
              "      <th>pixel34</th>\n",
              "      <th>pixel35</th>\n",
              "      <th>pixel36</th>\n",
              "      <th>pixel37</th>\n",
              "      <th>pixel38</th>\n",
              "      <th>pixel39</th>\n",
              "      <th>...</th>\n",
              "      <th>pixel745</th>\n",
              "      <th>pixel746</th>\n",
              "      <th>pixel747</th>\n",
              "      <th>pixel748</th>\n",
              "      <th>pixel749</th>\n",
              "      <th>pixel750</th>\n",
              "      <th>pixel751</th>\n",
              "      <th>pixel752</th>\n",
              "      <th>pixel753</th>\n",
              "      <th>pixel754</th>\n",
              "      <th>pixel755</th>\n",
              "      <th>pixel756</th>\n",
              "      <th>pixel757</th>\n",
              "      <th>pixel758</th>\n",
              "      <th>pixel759</th>\n",
              "      <th>pixel760</th>\n",
              "      <th>pixel761</th>\n",
              "      <th>pixel762</th>\n",
              "      <th>pixel763</th>\n",
              "      <th>pixel764</th>\n",
              "      <th>pixel765</th>\n",
              "      <th>pixel766</th>\n",
              "      <th>pixel767</th>\n",
              "      <th>pixel768</th>\n",
              "      <th>pixel769</th>\n",
              "      <th>pixel770</th>\n",
              "      <th>pixel771</th>\n",
              "      <th>pixel772</th>\n",
              "      <th>pixel773</th>\n",
              "      <th>pixel774</th>\n",
              "      <th>pixel775</th>\n",
              "      <th>pixel776</th>\n",
              "      <th>pixel777</th>\n",
              "      <th>pixel778</th>\n",
              "      <th>pixel779</th>\n",
              "      <th>pixel780</th>\n",
              "      <th>pixel781</th>\n",
              "      <th>pixel782</th>\n",
              "      <th>pixel783</th>\n",
              "      <th>pixel784</th>\n",
              "    </tr>\n",
              "  </thead>\n",
              "  <tbody>\n",
              "    <tr>\n",
              "      <th>0</th>\n",
              "      <td>3</td>\n",
              "      <td>107</td>\n",
              "      <td>118</td>\n",
              "      <td>127</td>\n",
              "      <td>134</td>\n",
              "      <td>139</td>\n",
              "      <td>143</td>\n",
              "      <td>146</td>\n",
              "      <td>150</td>\n",
              "      <td>153</td>\n",
              "      <td>156</td>\n",
              "      <td>158</td>\n",
              "      <td>160</td>\n",
              "      <td>163</td>\n",
              "      <td>165</td>\n",
              "      <td>159</td>\n",
              "      <td>166</td>\n",
              "      <td>168</td>\n",
              "      <td>170</td>\n",
              "      <td>170</td>\n",
              "      <td>171</td>\n",
              "      <td>171</td>\n",
              "      <td>171</td>\n",
              "      <td>172</td>\n",
              "      <td>171</td>\n",
              "      <td>171</td>\n",
              "      <td>170</td>\n",
              "      <td>170</td>\n",
              "      <td>169</td>\n",
              "      <td>111</td>\n",
              "      <td>121</td>\n",
              "      <td>129</td>\n",
              "      <td>135</td>\n",
              "      <td>141</td>\n",
              "      <td>144</td>\n",
              "      <td>148</td>\n",
              "      <td>151</td>\n",
              "      <td>154</td>\n",
              "      <td>157</td>\n",
              "      <td>160</td>\n",
              "      <td>...</td>\n",
              "      <td>205</td>\n",
              "      <td>206</td>\n",
              "      <td>206</td>\n",
              "      <td>207</td>\n",
              "      <td>207</td>\n",
              "      <td>206</td>\n",
              "      <td>206</td>\n",
              "      <td>204</td>\n",
              "      <td>205</td>\n",
              "      <td>204</td>\n",
              "      <td>203</td>\n",
              "      <td>202</td>\n",
              "      <td>142</td>\n",
              "      <td>151</td>\n",
              "      <td>160</td>\n",
              "      <td>172</td>\n",
              "      <td>196</td>\n",
              "      <td>188</td>\n",
              "      <td>188</td>\n",
              "      <td>190</td>\n",
              "      <td>135</td>\n",
              "      <td>96</td>\n",
              "      <td>86</td>\n",
              "      <td>77</td>\n",
              "      <td>77</td>\n",
              "      <td>79</td>\n",
              "      <td>176</td>\n",
              "      <td>205</td>\n",
              "      <td>207</td>\n",
              "      <td>207</td>\n",
              "      <td>207</td>\n",
              "      <td>207</td>\n",
              "      <td>207</td>\n",
              "      <td>207</td>\n",
              "      <td>206</td>\n",
              "      <td>206</td>\n",
              "      <td>206</td>\n",
              "      <td>204</td>\n",
              "      <td>203</td>\n",
              "      <td>202</td>\n",
              "    </tr>\n",
              "    <tr>\n",
              "      <th>1</th>\n",
              "      <td>6</td>\n",
              "      <td>155</td>\n",
              "      <td>157</td>\n",
              "      <td>156</td>\n",
              "      <td>156</td>\n",
              "      <td>156</td>\n",
              "      <td>157</td>\n",
              "      <td>156</td>\n",
              "      <td>158</td>\n",
              "      <td>158</td>\n",
              "      <td>157</td>\n",
              "      <td>158</td>\n",
              "      <td>156</td>\n",
              "      <td>154</td>\n",
              "      <td>154</td>\n",
              "      <td>153</td>\n",
              "      <td>152</td>\n",
              "      <td>151</td>\n",
              "      <td>149</td>\n",
              "      <td>149</td>\n",
              "      <td>148</td>\n",
              "      <td>147</td>\n",
              "      <td>146</td>\n",
              "      <td>144</td>\n",
              "      <td>142</td>\n",
              "      <td>143</td>\n",
              "      <td>138</td>\n",
              "      <td>92</td>\n",
              "      <td>108</td>\n",
              "      <td>158</td>\n",
              "      <td>159</td>\n",
              "      <td>159</td>\n",
              "      <td>159</td>\n",
              "      <td>160</td>\n",
              "      <td>160</td>\n",
              "      <td>160</td>\n",
              "      <td>160</td>\n",
              "      <td>160</td>\n",
              "      <td>160</td>\n",
              "      <td>160</td>\n",
              "      <td>...</td>\n",
              "      <td>100</td>\n",
              "      <td>78</td>\n",
              "      <td>120</td>\n",
              "      <td>157</td>\n",
              "      <td>168</td>\n",
              "      <td>107</td>\n",
              "      <td>99</td>\n",
              "      <td>121</td>\n",
              "      <td>133</td>\n",
              "      <td>97</td>\n",
              "      <td>95</td>\n",
              "      <td>120</td>\n",
              "      <td>135</td>\n",
              "      <td>116</td>\n",
              "      <td>95</td>\n",
              "      <td>79</td>\n",
              "      <td>69</td>\n",
              "      <td>86</td>\n",
              "      <td>139</td>\n",
              "      <td>173</td>\n",
              "      <td>200</td>\n",
              "      <td>185</td>\n",
              "      <td>175</td>\n",
              "      <td>198</td>\n",
              "      <td>124</td>\n",
              "      <td>118</td>\n",
              "      <td>94</td>\n",
              "      <td>140</td>\n",
              "      <td>133</td>\n",
              "      <td>84</td>\n",
              "      <td>69</td>\n",
              "      <td>149</td>\n",
              "      <td>128</td>\n",
              "      <td>87</td>\n",
              "      <td>94</td>\n",
              "      <td>163</td>\n",
              "      <td>175</td>\n",
              "      <td>103</td>\n",
              "      <td>135</td>\n",
              "      <td>149</td>\n",
              "    </tr>\n",
              "    <tr>\n",
              "      <th>2</th>\n",
              "      <td>2</td>\n",
              "      <td>187</td>\n",
              "      <td>188</td>\n",
              "      <td>188</td>\n",
              "      <td>187</td>\n",
              "      <td>187</td>\n",
              "      <td>186</td>\n",
              "      <td>187</td>\n",
              "      <td>188</td>\n",
              "      <td>187</td>\n",
              "      <td>186</td>\n",
              "      <td>185</td>\n",
              "      <td>185</td>\n",
              "      <td>185</td>\n",
              "      <td>184</td>\n",
              "      <td>184</td>\n",
              "      <td>184</td>\n",
              "      <td>181</td>\n",
              "      <td>181</td>\n",
              "      <td>179</td>\n",
              "      <td>179</td>\n",
              "      <td>179</td>\n",
              "      <td>178</td>\n",
              "      <td>178</td>\n",
              "      <td>109</td>\n",
              "      <td>52</td>\n",
              "      <td>66</td>\n",
              "      <td>77</td>\n",
              "      <td>83</td>\n",
              "      <td>188</td>\n",
              "      <td>189</td>\n",
              "      <td>189</td>\n",
              "      <td>188</td>\n",
              "      <td>188</td>\n",
              "      <td>189</td>\n",
              "      <td>188</td>\n",
              "      <td>188</td>\n",
              "      <td>188</td>\n",
              "      <td>188</td>\n",
              "      <td>187</td>\n",
              "      <td>...</td>\n",
              "      <td>203</td>\n",
              "      <td>204</td>\n",
              "      <td>203</td>\n",
              "      <td>201</td>\n",
              "      <td>200</td>\n",
              "      <td>200</td>\n",
              "      <td>199</td>\n",
              "      <td>198</td>\n",
              "      <td>196</td>\n",
              "      <td>195</td>\n",
              "      <td>194</td>\n",
              "      <td>193</td>\n",
              "      <td>198</td>\n",
              "      <td>166</td>\n",
              "      <td>132</td>\n",
              "      <td>114</td>\n",
              "      <td>89</td>\n",
              "      <td>74</td>\n",
              "      <td>79</td>\n",
              "      <td>77</td>\n",
              "      <td>74</td>\n",
              "      <td>78</td>\n",
              "      <td>132</td>\n",
              "      <td>188</td>\n",
              "      <td>210</td>\n",
              "      <td>209</td>\n",
              "      <td>206</td>\n",
              "      <td>205</td>\n",
              "      <td>204</td>\n",
              "      <td>203</td>\n",
              "      <td>202</td>\n",
              "      <td>201</td>\n",
              "      <td>200</td>\n",
              "      <td>199</td>\n",
              "      <td>198</td>\n",
              "      <td>199</td>\n",
              "      <td>198</td>\n",
              "      <td>195</td>\n",
              "      <td>194</td>\n",
              "      <td>195</td>\n",
              "    </tr>\n",
              "    <tr>\n",
              "      <th>3</th>\n",
              "      <td>2</td>\n",
              "      <td>211</td>\n",
              "      <td>211</td>\n",
              "      <td>212</td>\n",
              "      <td>212</td>\n",
              "      <td>211</td>\n",
              "      <td>210</td>\n",
              "      <td>211</td>\n",
              "      <td>210</td>\n",
              "      <td>210</td>\n",
              "      <td>211</td>\n",
              "      <td>209</td>\n",
              "      <td>207</td>\n",
              "      <td>208</td>\n",
              "      <td>207</td>\n",
              "      <td>206</td>\n",
              "      <td>203</td>\n",
              "      <td>202</td>\n",
              "      <td>201</td>\n",
              "      <td>200</td>\n",
              "      <td>198</td>\n",
              "      <td>197</td>\n",
              "      <td>195</td>\n",
              "      <td>192</td>\n",
              "      <td>197</td>\n",
              "      <td>171</td>\n",
              "      <td>51</td>\n",
              "      <td>52</td>\n",
              "      <td>54</td>\n",
              "      <td>212</td>\n",
              "      <td>213</td>\n",
              "      <td>215</td>\n",
              "      <td>215</td>\n",
              "      <td>212</td>\n",
              "      <td>212</td>\n",
              "      <td>213</td>\n",
              "      <td>212</td>\n",
              "      <td>212</td>\n",
              "      <td>211</td>\n",
              "      <td>211</td>\n",
              "      <td>...</td>\n",
              "      <td>247</td>\n",
              "      <td>242</td>\n",
              "      <td>233</td>\n",
              "      <td>231</td>\n",
              "      <td>230</td>\n",
              "      <td>229</td>\n",
              "      <td>227</td>\n",
              "      <td>225</td>\n",
              "      <td>223</td>\n",
              "      <td>221</td>\n",
              "      <td>220</td>\n",
              "      <td>216</td>\n",
              "      <td>58</td>\n",
              "      <td>51</td>\n",
              "      <td>49</td>\n",
              "      <td>50</td>\n",
              "      <td>57</td>\n",
              "      <td>60</td>\n",
              "      <td>17</td>\n",
              "      <td>15</td>\n",
              "      <td>18</td>\n",
              "      <td>17</td>\n",
              "      <td>19</td>\n",
              "      <td>1</td>\n",
              "      <td>159</td>\n",
              "      <td>255</td>\n",
              "      <td>237</td>\n",
              "      <td>239</td>\n",
              "      <td>237</td>\n",
              "      <td>236</td>\n",
              "      <td>235</td>\n",
              "      <td>234</td>\n",
              "      <td>233</td>\n",
              "      <td>231</td>\n",
              "      <td>230</td>\n",
              "      <td>226</td>\n",
              "      <td>225</td>\n",
              "      <td>222</td>\n",
              "      <td>229</td>\n",
              "      <td>163</td>\n",
              "    </tr>\n",
              "    <tr>\n",
              "      <th>4</th>\n",
              "      <td>13</td>\n",
              "      <td>164</td>\n",
              "      <td>167</td>\n",
              "      <td>170</td>\n",
              "      <td>172</td>\n",
              "      <td>176</td>\n",
              "      <td>179</td>\n",
              "      <td>180</td>\n",
              "      <td>184</td>\n",
              "      <td>185</td>\n",
              "      <td>186</td>\n",
              "      <td>188</td>\n",
              "      <td>189</td>\n",
              "      <td>189</td>\n",
              "      <td>190</td>\n",
              "      <td>191</td>\n",
              "      <td>189</td>\n",
              "      <td>190</td>\n",
              "      <td>190</td>\n",
              "      <td>187</td>\n",
              "      <td>190</td>\n",
              "      <td>192</td>\n",
              "      <td>193</td>\n",
              "      <td>191</td>\n",
              "      <td>191</td>\n",
              "      <td>192</td>\n",
              "      <td>192</td>\n",
              "      <td>194</td>\n",
              "      <td>194</td>\n",
              "      <td>166</td>\n",
              "      <td>169</td>\n",
              "      <td>172</td>\n",
              "      <td>174</td>\n",
              "      <td>177</td>\n",
              "      <td>180</td>\n",
              "      <td>182</td>\n",
              "      <td>185</td>\n",
              "      <td>186</td>\n",
              "      <td>187</td>\n",
              "      <td>190</td>\n",
              "      <td>...</td>\n",
              "      <td>90</td>\n",
              "      <td>77</td>\n",
              "      <td>88</td>\n",
              "      <td>117</td>\n",
              "      <td>123</td>\n",
              "      <td>127</td>\n",
              "      <td>129</td>\n",
              "      <td>134</td>\n",
              "      <td>145</td>\n",
              "      <td>152</td>\n",
              "      <td>156</td>\n",
              "      <td>179</td>\n",
              "      <td>105</td>\n",
              "      <td>106</td>\n",
              "      <td>105</td>\n",
              "      <td>104</td>\n",
              "      <td>104</td>\n",
              "      <td>104</td>\n",
              "      <td>175</td>\n",
              "      <td>199</td>\n",
              "      <td>178</td>\n",
              "      <td>152</td>\n",
              "      <td>136</td>\n",
              "      <td>130</td>\n",
              "      <td>136</td>\n",
              "      <td>150</td>\n",
              "      <td>118</td>\n",
              "      <td>92</td>\n",
              "      <td>85</td>\n",
              "      <td>76</td>\n",
              "      <td>92</td>\n",
              "      <td>105</td>\n",
              "      <td>105</td>\n",
              "      <td>108</td>\n",
              "      <td>133</td>\n",
              "      <td>163</td>\n",
              "      <td>157</td>\n",
              "      <td>163</td>\n",
              "      <td>164</td>\n",
              "      <td>179</td>\n",
              "    </tr>\n",
              "  </tbody>\n",
              "</table>\n",
              "<p>5 rows × 785 columns</p>\n",
              "</div>"
            ],
            "text/plain": [
              "   label  pixel1  pixel2  pixel3  ...  pixel781  pixel782  pixel783  pixel784\n",
              "0      3     107     118     127  ...       206       204       203       202\n",
              "1      6     155     157     156  ...       175       103       135       149\n",
              "2      2     187     188     188  ...       198       195       194       195\n",
              "3      2     211     211     212  ...       225       222       229       163\n",
              "4     13     164     167     170  ...       157       163       164       179\n",
              "\n",
              "[5 rows x 785 columns]"
            ]
          },
          "metadata": {},
          "execution_count": 5
        }
      ]
    },
    {
      "cell_type": "markdown",
      "metadata": {
        "id": "J4TBMLcgqeHK"
      },
      "source": [
        "**Dataset Visualization**\n",
        "\n",
        "\n",
        "Here is an example of what a 28x28 picture from the dataset looks like:"
      ]
    },
    {
      "cell_type": "code",
      "metadata": {
        "colab": {
          "base_uri": "https://localhost:8080/",
          "height": 282
        },
        "id": "ulfwP95spTxm",
        "outputId": "61f98180-78cc-41af-98f6-096c74d9b178"
      },
      "source": [
        "# Plots Sample ID: 60 in Greyscale\n",
        "id = 60\n",
        "test_pic_label = df['label'][id]\n",
        "test_pic = np.array(df.values[id][1:])\n",
        "test_pic.resize((28,28))\n",
        "plt.imshow(test_pic, cmap=\"gray\")\n",
        "print(test_pic_label)"
      ],
      "execution_count": null,
      "outputs": [
        {
          "output_type": "stream",
          "name": "stdout",
          "text": [
            "4\n"
          ]
        },
        {
          "output_type": "display_data",
          "data": {
            "image/png": "[encoded data removed]",
            "text/plain": [
              "<Figure size 432x288 with 1 Axes>"
            ]
          },
          "metadata": {
            "needs_background": "light"
          }
        }
      ]
    },
    {
      "cell_type": "markdown",
      "metadata": {
        "id": "TQ3xqDBo3J08"
      },
      "source": [
        "## Model Architecture"
      ]
    },
    {
      "cell_type": "markdown",
      "metadata": {
        "id": "YX_YihI9qkcM"
      },
      "source": [
        "**Convolutional Neural Network**\n",
        "\n",
        "\n",
        "Our end goal is to be able to classify images that contain hand-signs and label them to the correct corresponding letter. That said, we decided to first try implementing a Convolution Neural Network due to its popularity in image processing. The reason for this is because we can reduce the dimensionality of the image to simplify the image to its most important features or pixels, which increases computation speed without significantly impacting the accuracy of the model (Source: https://medium.datadriveninvestor.com/why-are-convolutional-neural-networks-good-for-image-classification-146ec6e865e8)\n",
        "\n",
        "**Feed Forward Process**\n",
        "\n",
        "1. Our neural network starts by taking a 28x28 pixel sized image and applying 16 filters (images are not RGB so just 1 value) of shape 3x3.\n",
        "\n",
        "2. It then proceeds to the max pooling phase, where the maximum pixel value of every 2x2 grid is used to substitute the 4 pixel values within the 2x2 grid. \n",
        "\n",
        "3. The remaining pixels are tied together in what’s called the Fully Connected Layer, and is passed onto the activation function. Here, we decide to try ReLu to mitigate the possibility of the vanishing gradient phenomena. \n",
        "\n",
        "4. The gradient Is then used to calculate a set of weights for each layer, and a gradient descent algorithm called Adams is used to minimize the gradients and thus find the optimum set of weights."
      ]
    },
    {
      "cell_type": "code",
      "metadata": {
        "id": "xtdMfy5c9T9W"
      },
      "source": [
        "class SignMINSTDataset(Dataset):\n",
        "  def __init__(self, data, labels):\n",
        "      self.labels = labels\n",
        "      self.data = data\n",
        "\n",
        "  def __len__(self): \n",
        "    return len(self.data)\n",
        "\n",
        "  def __getitem__(self, idx):\n",
        "    img = np.array(self.data.iloc[[idx]].drop('label', axis=1))\n",
        "    img.resize((1,28,28))\n",
        "    label = int(self.data.iloc[[idx]]['label'])\n",
        "\n",
        "    return img, label\n",
        "\n",
        "dataset = SignMINSTDataset(df, classes)"
      ],
      "execution_count": null,
      "outputs": []
    },
    {
      "cell_type": "code",
      "metadata": {
        "id": "A1O8qoYj3Xk1"
      },
      "source": [
        "class MyCNN(nn.Module):\n",
        "    # The init funciton in Pytorch classes is used to keep track of the parameters of the model\n",
        "    # specifically the ones we want to update with gradient descent + backprop\n",
        "    # So we need to make sure we keep track of all of them here\n",
        "    def __init__(self):\n",
        "        super(MyCNN, self).__init__()\n",
        "        # layers defined here\n",
        "\n",
        "        # Make sure you understand what this convolutional layer is doing.\n",
        "        # E.g., considering looking at help(nn.Conv2D).  Draw a picture of what\n",
        "        # this layer does to the data.\n",
        "\n",
        "        # note: image_dims[0] will be 3 as there are 3 color channels (R, G, B)\n",
        "        num_kernels = 16\n",
        "        self.conv1 = nn.Conv2d(image_dims[0], num_kernels, kernel_size=3, stride=1, padding=1)\n",
        "\n",
        "        # Make sure you understand what this MaxPool2D layer is doing.\n",
        "        # E.g., considering looking at help(nn.MaxPool2d).  Draw a picture of\n",
        "        # what this layer does to the data.\n",
        "\n",
        "        self.pool = nn.MaxPool2d(kernel_size=2, stride=2, padding=0)\n",
        "\n",
        "        # maxpool_output_size is the total amount of data coming out of that\n",
        "        # layer.  We have an exercise that asks you to explain why the line of\n",
        "        # code below computes this quantity.\n",
        "        self.maxpool_output_size = int(num_kernels * (image_dims[1] / 2) * (image_dims[2] / 2))\n",
        "\n",
        "        # Add on a fully connected layer (like in our MLP)\n",
        "        # fc stands for fully connected\n",
        "        fc1_size = 64\n",
        "        self.fc1 = nn.Linear(self.maxpool_output_size, fc1_size)\n",
        "\n",
        "        # we'll use this activation function internally in the network\n",
        "        self.activation_func = torch.nn.ReLU()\n",
        "\n",
        "        # Convert our fully connected layer into outputs that we can compare to the result\n",
        "        fc2_size = len(classes)\n",
        "        self.fc2 = nn.Linear(fc1_size, fc2_size)\n",
        "\n",
        "        # Note: that the output will not represent the probability of the\n",
        "        # output being in each class.  The loss function we will use\n",
        "        # `CrossEntropyLoss` will take care of convering these values to\n",
        "        # probabilities and then computing the log loss with respect to the\n",
        "        # true label.  We could break this out into multiple steps, but it turns\n",
        "        # out that the algorithm will be more numerically stable if we do it in\n",
        "        # one go.  We have included a cell to show you the documentation for\n",
        "        # `CrossEntropyLoss` if you'd like to check it out.\n",
        "        \n",
        "    # The forward function in the class defines the operations performed on a given input to the model\n",
        "    # and returns the output of the model\n",
        "    def forward(self, x):\n",
        "        x = self.conv1(x)\n",
        "        x = self.pool(x)\n",
        "        x = self.activation_func(x)\n",
        "        # this code flattens the output of the convolution, max pool,\n",
        "        # activation sequence of steps into a vector\n",
        "        x = x.view(-1, self.maxpool_output_size)\n",
        "        x = self.fc1(x)\n",
        "        x = self.activation_func(x)\n",
        "        x = self.fc2(x)\n",
        "        return x\n",
        "\n",
        "    # The loss function (which we chose to include as a method of the class, but doesn't need to be)\n",
        "    # returns the loss and optimizer used by the model\n",
        "    def get_loss(self, learning_rate):\n",
        "      # Loss function\n",
        "      loss = nn.CrossEntropyLoss()\n",
        "      # Optimizer, self.parameters() returns all the Pytorch operations that are attributes of the class\n",
        "      optimizer = optim.Adam(self.parameters(), lr=learning_rate)\n",
        "      return loss, optimizer"
      ],
      "execution_count": null,
      "outputs": []
    },
    {
      "cell_type": "code",
      "metadata": {
        "id": "YkAz7mtE43it",
        "colab": {
          "base_uri": "https://localhost:8080/",
          "height": 934
        },
        "outputId": "e8057bc2-1220-4cce-cf50-9f3c2b50e5f6"
      },
      "source": [
        "def visualize_network(net):\n",
        "    # Visualize the architecture of the model\n",
        "    # We need to give the net a fake input for this library to visualize the architecture\n",
        "    fake_input = Variable(torch.zeros((1,image_dims[0], image_dims[1], image_dims[2]))).to(device)\n",
        "    outputs = net(fake_input)\n",
        "    # Plot the DAG (Directed Acyclic Graph) of the model\n",
        "    return make_dot(outputs, dict(net.named_parameters()))\n",
        "\n",
        "# Define what device we want to use\n",
        "device = 'cuda' # 'cpu' if we want to not use the gpu\n",
        "# Initialize the model, loss, and optimization function\n",
        "net = MyCNN()\n",
        "# This tells our model to send all of the tensors and operations to the GPU (or keep them at the CPU if we're not using GPU)\n",
        "net.to(device)\n",
        "\n",
        "visualize_network(net)"
      ],
      "execution_count": null,
      "outputs": [
        {
          "output_type": "stream",
          "name": "stderr",
          "text": [
            "/usr/local/lib/python3.7/dist-packages/torch/nn/functional.py:718: UserWarning: Named tensors and all their associated APIs are an experimental feature and subject to change. Please do not use them for anything important until they are released as stable. (Triggered internally at  /pytorch/c10/core/TensorImpl.h:1156.)\n",
            "  return torch.max_pool2d(input, kernel_size, stride, padding, dilation, ceil_mode)\n"
          ]
        },
        {
          "output_type": "execute_result",
          "data": {
            "text/plain": [
              "<graphviz.dot.Digraph at 0x7f1a66767850>"
            ],
            "image/svg+xml": "<?xml version=\"1.0\" encoding=\"UTF-8\" standalone=\"no\"?>\n<!DOCTYPE svg PUBLIC \"-//W3C//DTD SVG 1.1//EN\"\n \"http://www.w3.org/Graphics/SVG/1.1/DTD/svg11.dtd\">\n<!-- Generated by graphviz version 2.40.1 (20161225.0304)\n -->\n<!-- Title: %3 Pages: 1 -->\n<svg width=\"408pt\" height=\"644pt\"\n viewBox=\"0.00 0.00 408.00 644.00\" xmlns=\"http://www.w3.org/2000/svg\" xmlns:xlink=\"http://www.w3.org/1999/xlink\">\n<g id=\"graph0\" class=\"graph\" transform=\"scale(1 1) rotate(0) translate(4 640)\">\n<title>%3</title>\n<polygon fill=\"#ffffff\" stroke=\"transparent\" points=\"-4,4 -4,-640 404,-640 404,4 -4,4\"/>\n<!-- 139751371039840 -->\n<g id=\"node1\" class=\"node\">\n<title>139751371039840</title>\n<polygon fill=\"#caff70\" stroke=\"#000000\" points=\"236,-31 171,-31 171,0 236,0 236,-31\"/>\n<text text-anchor=\"middle\" x=\"203.5\" y=\"-7\" font-family=\"monospace\" font-size=\"10.00\" fill=\"#000000\"> (1, 25)</text>\n</g>\n<!-- 139751364917456 -->\n<g id=\"node2\" class=\"node\">\n<title>139751364917456</title>\n<polygon fill=\"#d3d3d3\" stroke=\"#000000\" points=\"251,-86 156,-86 156,-67 251,-67 251,-86\"/>\n<text text-anchor=\"middle\" x=\"203.5\" y=\"-74\" font-family=\"monospace\" font-size=\"10.00\" fill=\"#000000\">AddmmBackward</text>\n</g>\n<!-- 139751364917456&#45;&gt;139751371039840 -->\n<g id=\"edge23\" class=\"edge\">\n<title>139751364917456&#45;&gt;139751371039840</title>\n<path fill=\"none\" stroke=\"#000000\" d=\"M203.5,-66.9688C203.5,-60.1289 203.5,-50.5621 203.5,-41.5298\"/>\n<polygon fill=\"#000000\" stroke=\"#000000\" points=\"207.0001,-41.3678 203.5,-31.3678 200.0001,-41.3678 207.0001,-41.3678\"/>\n</g>\n<!-- 139751364917264 -->\n<g id=\"node3\" class=\"node\">\n<title>139751364917264</title>\n<polygon fill=\"#d3d3d3\" stroke=\"#000000\" points=\"138,-141 37,-141 37,-122 138,-122 138,-141\"/>\n<text text-anchor=\"middle\" x=\"87.5\" y=\"-129\" font-family=\"monospace\" font-size=\"10.00\" fill=\"#000000\">AccumulateGrad</text>\n</g>\n<!-- 139751364917264&#45;&gt;139751364917456 -->\n<g id=\"edge1\" class=\"edge\">\n<title>139751364917264&#45;&gt;139751364917456</title>\n<path fill=\"none\" stroke=\"#000000\" d=\"M107.7057,-121.9197C125.9737,-113.2581 153.1018,-100.3957 173.8304,-90.5675\"/>\n<polygon fill=\"#000000\" stroke=\"#000000\" points=\"175.6004,-93.6018 183.1367,-86.155 172.6014,-87.2768 175.6004,-93.6018\"/>\n</g>\n<!-- 139751366158608 -->\n<g id=\"node4\" class=\"node\">\n<title>139751366158608</title>\n<polygon fill=\"#add8e6\" stroke=\"#000000\" points=\"120,-207 55,-207 55,-177 120,-177 120,-207\"/>\n<text text-anchor=\"middle\" x=\"87.5\" y=\"-195\" font-family=\"monospace\" font-size=\"10.00\" fill=\"#000000\">fc2.bias</text>\n<text text-anchor=\"middle\" x=\"87.5\" y=\"-184\" font-family=\"monospace\" font-size=\"10.00\" fill=\"#000000\"> (25)</text>\n</g>\n<!-- 139751366158608&#45;&gt;139751364917264 -->\n<g id=\"edge2\" class=\"edge\">\n<title>139751366158608&#45;&gt;139751364917264</title>\n<path fill=\"none\" stroke=\"#000000\" d=\"M87.5,-176.7333C87.5,-169.0322 87.5,-159.5977 87.5,-151.3414\"/>\n<polygon fill=\"#000000\" stroke=\"#000000\" points=\"91.0001,-151.0864 87.5,-141.0864 84.0001,-151.0864 91.0001,-151.0864\"/>\n</g>\n<!-- 139751364917648 -->\n<g id=\"node5\" class=\"node\">\n<title>139751364917648</title>\n<polygon fill=\"#d3d3d3\" stroke=\"#000000\" points=\"251,-141 156,-141 156,-122 251,-122 251,-141\"/>\n<text text-anchor=\"middle\" x=\"203.5\" y=\"-129\" font-family=\"monospace\" font-size=\"10.00\" fill=\"#000000\">ReluBackward0</text>\n</g>\n<!-- 139751364917648&#45;&gt;139751364917456 -->\n<g id=\"edge3\" class=\"edge\">\n<title>139751364917648&#45;&gt;139751364917456</title>\n<path fill=\"none\" stroke=\"#000000\" d=\"M203.5,-121.9197C203.5,-114.9083 203.5,-105.1442 203.5,-96.4652\"/>\n<polygon fill=\"#000000\" stroke=\"#000000\" points=\"207.0001,-96.3408 203.5,-86.3408 200.0001,-96.3409 207.0001,-96.3408\"/>\n</g>\n<!-- 139751364917520 -->\n<g id=\"node6\" class=\"node\">\n<title>139751364917520</title>\n<polygon fill=\"#d3d3d3\" stroke=\"#000000\" points=\"234,-201.5 139,-201.5 139,-182.5 234,-182.5 234,-201.5\"/>\n<text text-anchor=\"middle\" x=\"186.5\" y=\"-189.5\" font-family=\"monospace\" font-size=\"10.00\" fill=\"#000000\">AddmmBackward</text>\n</g>\n<!-- 139751364917520&#45;&gt;139751364917648 -->\n<g id=\"edge4\" class=\"edge\">\n<title>139751364917520&#45;&gt;139751364917648</title>\n<path fill=\"none\" stroke=\"#000000\" d=\"M189.2313,-182.2796C191.5719,-173.9499 195.0174,-161.688 197.9363,-151.3004\"/>\n<polygon fill=\"#000000\" stroke=\"#000000\" points=\"201.3832,-151.9712 200.719,-141.3972 194.6442,-150.0776 201.3832,-151.9712\"/>\n</g>\n<!-- 139751364917840 -->\n<g id=\"node7\" class=\"node\">\n<title>139751364917840</title>\n<polygon fill=\"#d3d3d3\" stroke=\"#000000\" points=\"106,-267.5 5,-267.5 5,-248.5 106,-248.5 106,-267.5\"/>\n<text text-anchor=\"middle\" x=\"55.5\" y=\"-255.5\" font-family=\"monospace\" font-size=\"10.00\" fill=\"#000000\">AccumulateGrad</text>\n</g>\n<!-- 139751364917840&#45;&gt;139751364917520 -->\n<g id=\"edge5\" class=\"edge\">\n<title>139751364917840&#45;&gt;139751364917520</title>\n<path fill=\"none\" stroke=\"#000000\" d=\"M74.5485,-248.403C96.5717,-237.3074 133.0296,-218.9393 158.3311,-206.192\"/>\n<polygon fill=\"#000000\" stroke=\"#000000\" points=\"160.0727,-209.2337 167.4285,-201.6085 156.9231,-202.9823 160.0727,-209.2337\"/>\n</g>\n<!-- 139751365988752 -->\n<g id=\"node8\" class=\"node\">\n<title>139751365988752</title>\n<polygon fill=\"#add8e6\" stroke=\"#000000\" points=\"88,-339 23,-339 23,-309 88,-309 88,-339\"/>\n<text text-anchor=\"middle\" x=\"55.5\" y=\"-327\" font-family=\"monospace\" font-size=\"10.00\" fill=\"#000000\">fc1.bias</text>\n<text text-anchor=\"middle\" x=\"55.5\" y=\"-316\" font-family=\"monospace\" font-size=\"10.00\" fill=\"#000000\"> (64)</text>\n</g>\n<!-- 139751365988752&#45;&gt;139751364917840 -->\n<g id=\"edge6\" class=\"edge\">\n<title>139751365988752&#45;&gt;139751364917840</title>\n<path fill=\"none\" stroke=\"#000000\" d=\"M55.5,-308.6924C55.5,-299.5067 55.5,-287.7245 55.5,-277.8312\"/>\n<polygon fill=\"#000000\" stroke=\"#000000\" points=\"59.0001,-277.703 55.5,-267.7031 52.0001,-277.7031 59.0001,-277.703\"/>\n</g>\n<!-- 139751364918032 -->\n<g id=\"node9\" class=\"node\">\n<title>139751364918032</title>\n<polygon fill=\"#d3d3d3\" stroke=\"#000000\" points=\"213,-267.5 124,-267.5 124,-248.5 213,-248.5 213,-267.5\"/>\n<text text-anchor=\"middle\" x=\"168.5\" y=\"-255.5\" font-family=\"monospace\" font-size=\"10.00\" fill=\"#000000\">ViewBackward</text>\n</g>\n<!-- 139751364918032&#45;&gt;139751364917520 -->\n<g id=\"edge7\" class=\"edge\">\n<title>139751364918032&#45;&gt;139751364917520</title>\n<path fill=\"none\" stroke=\"#000000\" d=\"M171.156,-248.2615C173.7881,-238.6102 177.8933,-223.558 181.1953,-211.4506\"/>\n<polygon fill=\"#000000\" stroke=\"#000000\" points=\"184.5786,-212.3471 183.8331,-201.7785 177.8252,-210.5052 184.5786,-212.3471\"/>\n</g>\n<!-- 139751364917904 -->\n<g id=\"node10\" class=\"node\">\n<title>139751364917904</title>\n<polygon fill=\"#d3d3d3\" stroke=\"#000000\" points=\"208,-333.5 113,-333.5 113,-314.5 208,-314.5 208,-333.5\"/>\n<text text-anchor=\"middle\" x=\"160.5\" y=\"-321.5\" font-family=\"monospace\" font-size=\"10.00\" fill=\"#000000\">ReluBackward0</text>\n</g>\n<!-- 139751364917904&#45;&gt;139751364918032 -->\n<g id=\"edge8\" class=\"edge\">\n<title>139751364917904&#45;&gt;139751364918032</title>\n<path fill=\"none\" stroke=\"#000000\" d=\"M161.6804,-314.2615C162.8385,-304.7077 164.638,-289.8615 166.0978,-277.8183\"/>\n<polygon fill=\"#000000\" stroke=\"#000000\" points=\"169.5859,-278.127 167.3147,-267.7785 162.6368,-277.2846 169.5859,-278.127\"/>\n</g>\n<!-- 139751364918096 -->\n<g id=\"node11\" class=\"node\">\n<title>139751364918096</title>\n<polygon fill=\"#d3d3d3\" stroke=\"#000000\" points=\"244,-399.5 59,-399.5 59,-380.5 244,-380.5 244,-399.5\"/>\n<text text-anchor=\"middle\" x=\"151.5\" y=\"-387.5\" font-family=\"monospace\" font-size=\"10.00\" fill=\"#000000\">MaxPool2DWithIndicesBackward</text>\n</g>\n<!-- 139751364918096&#45;&gt;139751364917904 -->\n<g id=\"edge9\" class=\"edge\">\n<title>139751364918096&#45;&gt;139751364917904</title>\n<path fill=\"none\" stroke=\"#000000\" d=\"M152.828,-380.2615C154.1308,-370.7077 156.1552,-355.8615 157.7975,-343.8183\"/>\n<polygon fill=\"#000000\" stroke=\"#000000\" points=\"161.2833,-344.1597 159.1666,-333.7785 154.3474,-343.2139 161.2833,-344.1597\"/>\n</g>\n<!-- 139751364918352 -->\n<g id=\"node12\" class=\"node\">\n<title>139751364918352</title>\n<polygon fill=\"#d3d3d3\" stroke=\"#000000\" points=\"196,-460 107,-460 107,-441 196,-441 196,-460\"/>\n<text text-anchor=\"middle\" x=\"151.5\" y=\"-448\" font-family=\"monospace\" font-size=\"10.00\" fill=\"#000000\">AddBackward0</text>\n</g>\n<!-- 139751364918352&#45;&gt;139751364918096 -->\n<g id=\"edge10\" class=\"edge\">\n<title>139751364918352&#45;&gt;139751364918096</title>\n<path fill=\"none\" stroke=\"#000000\" d=\"M151.5,-440.7796C151.5,-432.5376 151.5,-420.4457 151.5,-410.129\"/>\n<polygon fill=\"#000000\" stroke=\"#000000\" points=\"155.0001,-409.8972 151.5,-399.8972 148.0001,-409.8973 155.0001,-409.8972\"/>\n</g>\n<!-- 139751364918224 -->\n<g id=\"node13\" class=\"node\">\n<title>139751364918224</title>\n<polygon fill=\"#d3d3d3\" stroke=\"#000000\" points=\"161,-515 0,-515 0,-496 161,-496 161,-515\"/>\n<text text-anchor=\"middle\" x=\"80.5\" y=\"-503\" font-family=\"monospace\" font-size=\"10.00\" fill=\"#000000\">CudnnConvolutionBackward</text>\n</g>\n<!-- 139751364918224&#45;&gt;139751364918352 -->\n<g id=\"edge11\" class=\"edge\">\n<title>139751364918224&#45;&gt;139751364918352</title>\n<path fill=\"none\" stroke=\"#000000\" d=\"M92.8673,-495.9197C103.3263,-487.8177 118.5303,-476.0399 130.8349,-466.5082\"/>\n<polygon fill=\"#000000\" stroke=\"#000000\" points=\"133.0343,-469.2318 138.7964,-460.3408 128.7475,-463.6979 133.0343,-469.2318\"/>\n</g>\n<!-- 139751364918544 -->\n<g id=\"node14\" class=\"node\">\n<title>139751364918544</title>\n<polygon fill=\"#d3d3d3\" stroke=\"#000000\" points=\"131,-570 30,-570 30,-551 131,-551 131,-570\"/>\n<text text-anchor=\"middle\" x=\"80.5\" y=\"-558\" font-family=\"monospace\" font-size=\"10.00\" fill=\"#000000\">AccumulateGrad</text>\n</g>\n<!-- 139751364918544&#45;&gt;139751364918224 -->\n<g id=\"edge12\" class=\"edge\">\n<title>139751364918544&#45;&gt;139751364918224</title>\n<path fill=\"none\" stroke=\"#000000\" d=\"M80.5,-550.9197C80.5,-543.9083 80.5,-534.1442 80.5,-525.4652\"/>\n<polygon fill=\"#000000\" stroke=\"#000000\" points=\"84.0001,-525.3408 80.5,-515.3408 77.0001,-525.3409 84.0001,-525.3408\"/>\n</g>\n<!-- 139751365988832 -->\n<g id=\"node15\" class=\"node\">\n<title>139751365988832</title>\n<polygon fill=\"#add8e6\" stroke=\"#000000\" points=\"131,-636 30,-636 30,-606 131,-606 131,-636\"/>\n<text text-anchor=\"middle\" x=\"80.5\" y=\"-624\" font-family=\"monospace\" font-size=\"10.00\" fill=\"#000000\">conv1.weight</text>\n<text text-anchor=\"middle\" x=\"80.5\" y=\"-613\" font-family=\"monospace\" font-size=\"10.00\" fill=\"#000000\"> (16, 1, 3, 3)</text>\n</g>\n<!-- 139751365988832&#45;&gt;139751364918544 -->\n<g id=\"edge13\" class=\"edge\">\n<title>139751365988832&#45;&gt;139751364918544</title>\n<path fill=\"none\" stroke=\"#000000\" d=\"M80.5,-605.7333C80.5,-598.0322 80.5,-588.5977 80.5,-580.3414\"/>\n<polygon fill=\"#000000\" stroke=\"#000000\" points=\"84.0001,-580.0864 80.5,-570.0864 77.0001,-580.0864 84.0001,-580.0864\"/>\n</g>\n<!-- 139751364918672 -->\n<g id=\"node16\" class=\"node\">\n<title>139751364918672</title>\n<polygon fill=\"#d3d3d3\" stroke=\"#000000\" points=\"268,-515 179,-515 179,-496 268,-496 268,-515\"/>\n<text text-anchor=\"middle\" x=\"223.5\" y=\"-503\" font-family=\"monospace\" font-size=\"10.00\" fill=\"#000000\">ViewBackward</text>\n</g>\n<!-- 139751364918672&#45;&gt;139751364918352 -->\n<g id=\"edge14\" class=\"edge\">\n<title>139751364918672&#45;&gt;139751364918352</title>\n<path fill=\"none\" stroke=\"#000000\" d=\"M210.9586,-495.9197C200.3522,-487.8177 184.9341,-476.0399 172.4561,-466.5082\"/>\n<polygon fill=\"#000000\" stroke=\"#000000\" points=\"174.4539,-463.6299 164.3825,-460.3408 170.2046,-469.1926 174.4539,-463.6299\"/>\n</g>\n<!-- 139751364918800 -->\n<g id=\"node17\" class=\"node\">\n<title>139751364918800</title>\n<polygon fill=\"#d3d3d3\" stroke=\"#000000\" points=\"274,-570 173,-570 173,-551 274,-551 274,-570\"/>\n<text text-anchor=\"middle\" x=\"223.5\" y=\"-558\" font-family=\"monospace\" font-size=\"10.00\" fill=\"#000000\">AccumulateGrad</text>\n</g>\n<!-- 139751364918800&#45;&gt;139751364918672 -->\n<g id=\"edge15\" class=\"edge\">\n<title>139751364918800&#45;&gt;139751364918672</title>\n<path fill=\"none\" stroke=\"#000000\" d=\"M223.5,-550.9197C223.5,-543.9083 223.5,-534.1442 223.5,-525.4652\"/>\n<polygon fill=\"#000000\" stroke=\"#000000\" points=\"227.0001,-525.3408 223.5,-515.3408 220.0001,-525.3409 227.0001,-525.3408\"/>\n</g>\n<!-- 139751365988912 -->\n<g id=\"node18\" class=\"node\">\n<title>139751365988912</title>\n<polygon fill=\"#add8e6\" stroke=\"#000000\" points=\"262,-636 185,-636 185,-606 262,-606 262,-636\"/>\n<text text-anchor=\"middle\" x=\"223.5\" y=\"-624\" font-family=\"monospace\" font-size=\"10.00\" fill=\"#000000\">conv1.bias</text>\n<text text-anchor=\"middle\" x=\"223.5\" y=\"-613\" font-family=\"monospace\" font-size=\"10.00\" fill=\"#000000\"> (16)</text>\n</g>\n<!-- 139751365988912&#45;&gt;139751364918800 -->\n<g id=\"edge16\" class=\"edge\">\n<title>139751365988912&#45;&gt;139751364918800</title>\n<path fill=\"none\" stroke=\"#000000\" d=\"M223.5,-605.7333C223.5,-598.0322 223.5,-588.5977 223.5,-580.3414\"/>\n<polygon fill=\"#000000\" stroke=\"#000000\" points=\"227.0001,-580.0864 223.5,-570.0864 220.0001,-580.0864 227.0001,-580.0864\"/>\n</g>\n<!-- 139751364917968 -->\n<g id=\"node19\" class=\"node\">\n<title>139751364917968</title>\n<polygon fill=\"#d3d3d3\" stroke=\"#000000\" points=\"302,-267.5 231,-267.5 231,-248.5 302,-248.5 302,-267.5\"/>\n<text text-anchor=\"middle\" x=\"266.5\" y=\"-255.5\" font-family=\"monospace\" font-size=\"10.00\" fill=\"#000000\">TBackward</text>\n</g>\n<!-- 139751364917968&#45;&gt;139751364917520 -->\n<g id=\"edge17\" class=\"edge\">\n<title>139751364917968&#45;&gt;139751364917520</title>\n<path fill=\"none\" stroke=\"#000000\" d=\"M254.6957,-248.2615C241.8604,-237.6723 221.1442,-220.5815 205.9083,-208.0119\"/>\n<polygon fill=\"#000000\" stroke=\"#000000\" points=\"208.0337,-205.228 198.0926,-201.5639 203.579,-210.6276 208.0337,-205.228\"/>\n</g>\n<!-- 139751364918160 -->\n<g id=\"node20\" class=\"node\">\n<title>139751364918160</title>\n<polygon fill=\"#d3d3d3\" stroke=\"#000000\" points=\"336,-333.5 235,-333.5 235,-314.5 336,-314.5 336,-333.5\"/>\n<text text-anchor=\"middle\" x=\"285.5\" y=\"-321.5\" font-family=\"monospace\" font-size=\"10.00\" fill=\"#000000\">AccumulateGrad</text>\n</g>\n<!-- 139751364918160&#45;&gt;139751364917968 -->\n<g id=\"edge18\" class=\"edge\">\n<title>139751364918160&#45;&gt;139751364917968</title>\n<path fill=\"none\" stroke=\"#000000\" d=\"M282.6965,-314.2615C279.9181,-304.6102 275.5849,-289.558 272.0994,-277.4506\"/>\n<polygon fill=\"#000000\" stroke=\"#000000\" points=\"275.4449,-276.4199 269.315,-267.7785 268.7181,-278.3565 275.4449,-276.4199\"/>\n</g>\n<!-- 139751365988592 -->\n<g id=\"node21\" class=\"node\">\n<title>139751365988592</title>\n<polygon fill=\"#add8e6\" stroke=\"#000000\" points=\"345,-405 262,-405 262,-375 345,-375 345,-405\"/>\n<text text-anchor=\"middle\" x=\"303.5\" y=\"-393\" font-family=\"monospace\" font-size=\"10.00\" fill=\"#000000\">fc1.weight</text>\n<text text-anchor=\"middle\" x=\"303.5\" y=\"-382\" font-family=\"monospace\" font-size=\"10.00\" fill=\"#000000\"> (64, 3136)</text>\n</g>\n<!-- 139751365988592&#45;&gt;139751364918160 -->\n<g id=\"edge19\" class=\"edge\">\n<title>139751365988592&#45;&gt;139751364918160</title>\n<path fill=\"none\" stroke=\"#000000\" d=\"M299.3252,-374.6924C296.7931,-365.408 293.5375,-353.4708 290.8216,-343.5127\"/>\n<polygon fill=\"#000000\" stroke=\"#000000\" points=\"294.1542,-342.4298 288.1463,-333.7031 287.4009,-344.2716 294.1542,-342.4298\"/>\n</g>\n<!-- 139751364917584 -->\n<g id=\"node22\" class=\"node\">\n<title>139751364917584</title>\n<polygon fill=\"#d3d3d3\" stroke=\"#000000\" points=\"376,-141 305,-141 305,-122 376,-122 376,-141\"/>\n<text text-anchor=\"middle\" x=\"340.5\" y=\"-129\" font-family=\"monospace\" font-size=\"10.00\" fill=\"#000000\">TBackward</text>\n</g>\n<!-- 139751364917584&#45;&gt;139751364917456 -->\n<g id=\"edge20\" class=\"edge\">\n<title>139751364917584&#45;&gt;139751364917456</title>\n<path fill=\"none\" stroke=\"#000000\" d=\"M316.6364,-121.9197C294.5731,-113.0622 261.5669,-99.8115 236.891,-89.9052\"/>\n<polygon fill=\"#000000\" stroke=\"#000000\" points=\"238.1339,-86.6326 227.5498,-86.155 235.5259,-93.1287 238.1339,-86.6326\"/>\n</g>\n<!-- 139751364917776 -->\n<g id=\"node23\" class=\"node\">\n<title>139751364917776</title>\n<polygon fill=\"#d3d3d3\" stroke=\"#000000\" points=\"400,-201.5 299,-201.5 299,-182.5 400,-182.5 400,-201.5\"/>\n<text text-anchor=\"middle\" x=\"349.5\" y=\"-189.5\" font-family=\"monospace\" font-size=\"10.00\" fill=\"#000000\">AccumulateGrad</text>\n</g>\n<!-- 139751364917776&#45;&gt;139751364917584 -->\n<g id=\"edge21\" class=\"edge\">\n<title>139751364917776&#45;&gt;139751364917584</title>\n<path fill=\"none\" stroke=\"#000000\" d=\"M348.054,-182.2796C346.8149,-173.9499 344.9908,-161.688 343.4455,-151.3004\"/>\n<polygon fill=\"#000000\" stroke=\"#000000\" points=\"346.9057,-150.7734 341.9723,-141.3972 339.9819,-151.8034 346.9057,-150.7734\"/>\n</g>\n<!-- 139751365988512 -->\n<g id=\"node24\" class=\"node\">\n<title>139751365988512</title>\n<polygon fill=\"#add8e6\" stroke=\"#000000\" points=\"397,-273 320,-273 320,-243 397,-243 397,-273\"/>\n<text text-anchor=\"middle\" x=\"358.5\" y=\"-261\" font-family=\"monospace\" font-size=\"10.00\" fill=\"#000000\">fc2.weight</text>\n<text text-anchor=\"middle\" x=\"358.5\" y=\"-250\" font-family=\"monospace\" font-size=\"10.00\" fill=\"#000000\"> (25, 64)</text>\n</g>\n<!-- 139751365988512&#45;&gt;139751364917776 -->\n<g id=\"edge22\" class=\"edge\">\n<title>139751365988512&#45;&gt;139751364917776</title>\n<path fill=\"none\" stroke=\"#000000\" d=\"M356.4126,-242.6924C355.16,-233.5067 353.5533,-221.7245 352.2043,-211.8312\"/>\n<polygon fill=\"#000000\" stroke=\"#000000\" points=\"355.6423,-211.1384 350.8231,-201.7031 348.7065,-212.0843 355.6423,-211.1384\"/>\n</g>\n</g>\n</svg>\n"
          },
          "metadata": {},
          "execution_count": 10
        }
      ]
    },
    {
      "cell_type": "markdown",
      "metadata": {
        "id": "ZUz2KKHVqrh2"
      },
      "source": [
        "The diagram above visualizes our model archictecture and ends with our output. It's a 1x25 matrix, which contains the probability the test sample corresponds to specific letter.\n"
      ]
    },
    {
      "cell_type": "markdown",
      "metadata": {
        "id": "_B5IfNlYsEO8"
      },
      "source": [
        "## Training the Model"
      ]
    },
    {
      "cell_type": "markdown",
      "metadata": {
        "id": "1DWuV3fCx5Yf"
      },
      "source": [
        "Below are the key parameters we use to train the model. \n",
        "\n",
        "1.   **Batch Size** - the number of training samples used per iteration\n",
        "2.   **Learning Rate** - governs the step size for how quickly we can approach the minimum of our loss function\n",
        "3.   **Number of Epochs** - the number of complete passes through the training set\n",
        "\n"
      ]
    },
    {
      "cell_type": "code",
      "metadata": {
        "id": "W8Yepx8nVhQC"
      },
      "source": [
        "# Define training parameters\n",
        "batch_size = 256\n",
        "learning_rate = 1e-2\n",
        "n_epochs = 3\n",
        "\n",
        "# Get our data into the mini batch size that we defined\n",
        "train_dataset, test_dataset = torch.utils.data.random_split(dataset, [int(len(dataset) * 2 / 3), int(1 + len(dataset) / 3)])\n",
        "train_loader = torch.utils.data.DataLoader(train_dataset, batch_size=batch_size, num_workers=2)\n",
        "test_loader = torch.utils.data.DataLoader(test_dataset, batch_size=batch_size, num_workers=2)\n"
      ],
      "execution_count": 140,
      "outputs": []
    },
    {
      "cell_type": "code",
      "metadata": {
        "id": "fzWzrIQZ6q7D"
      },
      "source": [
        "def train_model(net):\n",
        "    \"\"\" Train a the specified network.\n",
        "\n",
        "        Outputs a tuple with the following four elements\n",
        "        train_hist_x: the x-values (batch number) that the training set was \n",
        "            evaluated on.\n",
        "        train_loss_hist: the loss values for the training set corresponding to\n",
        "            the batch numbers returned in train_hist_x\n",
        "        test_hist_x: the x-values (batch number) that the test set was \n",
        "            evaluated on.\n",
        "        test_loss_hist: the loss values for the test set corresponding to\n",
        "            the batch numbers returned in test_hist_x\n",
        "    \"\"\" \n",
        "    loss, optimizer = net.get_loss(learning_rate)\n",
        "    # Define some parameters to keep track of metrics\n",
        "    print_every = 20\n",
        "    idx = 0\n",
        "    train_hist_x = []\n",
        "    train_loss_hist = []\n",
        "    test_hist_x = []\n",
        "    test_loss_hist = []\n",
        "\n",
        "    training_start_time = time.time()\n",
        "    # Loop for n_epochs\n",
        "    for epoch in range(n_epochs):\n",
        "        running_loss = 0.0\n",
        "        start_time = time.time()\n",
        "\n",
        "        for i, data in enumerate(train_loader, 0):\n",
        "            # Get inputs in right form\n",
        "            inputs, labels = data\n",
        "            inputs = inputs.type(torch.FloatTensor)\n",
        "            inputs, labels = Variable(inputs).to(device), Variable(labels).to(device)\n",
        "            \n",
        "            # In Pytorch, We need to always remember to set the optimizer gradients to 0 before we recompute the new gradients\n",
        "            optimizer.zero_grad()\n",
        "\n",
        "            # Forward pass\n",
        "            outputs = net(inputs)\n",
        "            \n",
        "            # Compute the loss and find the loss with respect to each parameter of the model\n",
        "            loss_size = loss(outputs, labels)\n",
        "            loss_size.backward()\n",
        "            \n",
        "            # Change each parameter with respect to the recently computed loss.\n",
        "            optimizer.step()\n",
        "\n",
        "            # Update statistics\n",
        "            running_loss += loss_size.data.item()\n",
        "            \n",
        "            # Print every 20th batch of an epoch\n",
        "            if (i % print_every) == print_every-1:\n",
        "                print(\"Epoch {}, Iteration {}\\t train_loss: {:.2f} took: {:.2f}s\".format(\n",
        "                    epoch + 1, i+1,running_loss / print_every, time.time() - start_time))\n",
        "                # Reset running loss and time\n",
        "                train_loss_hist.append(running_loss / print_every)\n",
        "                train_hist_x.append(idx)\n",
        "                running_loss = 0.0\n",
        "                start_time = time.time()\n",
        "            idx += 1\n",
        "\n",
        "        # At the end of the epoch, do a pass on the test set\n",
        "        total_test_loss = 0\n",
        "        for inputs, labels in test_loader:\n",
        "\n",
        "            # Wrap tensors in Variables\n",
        "            inputs = inputs.type(torch.FloatTensor)\n",
        "            inputs, labels = Variable(inputs).to(device), Variable(labels).to(device)\n",
        "\n",
        "            # Forward pass\n",
        "            test_outputs = net(inputs)\n",
        "            test_loss_size = loss(test_outputs, labels)\n",
        "            total_test_loss += test_loss_size.data.item()\n",
        "        test_loss_hist.append(total_test_loss / len(test_loader))\n",
        "        test_hist_x.append(idx)\n",
        "        print(\"Validation loss = {:.2f}\".format(\n",
        "            total_test_loss / len(test_loader)))\n",
        "\n",
        "    print(\"Training finished, took {:.2f}s\".format(\n",
        "        time.time() - training_start_time))\n",
        "    return train_hist_x, train_loss_hist, test_hist_x, test_loss_hist"
      ],
      "execution_count": 141,
      "outputs": []
    },
    {
      "cell_type": "markdown",
      "metadata": {
        "id": "buMoMmEC50rK"
      },
      "source": [
        "With our training function created, we can now train our model and record the losses after each batch number."
      ]
    },
    {
      "cell_type": "code",
      "metadata": {
        "id": "Pkcb8mzF7en7",
        "colab": {
          "base_uri": "https://localhost:8080/"
        },
        "outputId": "983f4939-280c-4ba6-9479-1310b2416bc4"
      },
      "source": [
        "# Define what device we want to use\n",
        "device = 'cuda' # 'cpu' if we want to not use the gpu\n",
        "# Initialize the model, loss, and optimization function\n",
        "net = MyCNN()\n",
        "# This tells our model to send all of the tensors and operations to the GPU (or keep them at the CPU if we're not using GPU)\n",
        "net.to(device)\n",
        "\n",
        "train_hist_x, train_loss_hist, test_hist_x, test_loss_hist = train_model(net)"
      ],
      "execution_count": 142,
      "outputs": [
        {
          "output_type": "stream",
          "name": "stdout",
          "text": [
            "Epoch 1, Iteration 20\t train_loss: 306.23 took: 5.30s\n",
            "Epoch 1, Iteration 40\t train_loss: 3.23 took: 5.09s\n",
            "Epoch 1, Iteration 60\t train_loss: 3.05 took: 5.05s\n",
            "Validation loss = 1.83\n",
            "Epoch 2, Iteration 20\t train_loss: 1.37 took: 5.32s\n",
            "Epoch 2, Iteration 40\t train_loss: 0.53 took: 5.14s\n",
            "Epoch 2, Iteration 60\t train_loss: 0.21 took: 5.12s\n",
            "Validation loss = 0.08\n",
            "Epoch 3, Iteration 20\t train_loss: 0.06 took: 5.16s\n",
            "Epoch 3, Iteration 40\t train_loss: 0.04 took: 5.07s\n",
            "Epoch 3, Iteration 60\t train_loss: 0.03 took: 5.13s\n",
            "Validation loss = 0.02\n",
            "Training finished, took 82.80s\n"
          ]
        }
      ]
    },
    {
      "cell_type": "code",
      "metadata": {
        "id": "Xf08zzQ-Ezav",
        "colab": {
          "base_uri": "https://localhost:8080/",
          "height": 295
        },
        "outputId": "dbc4add1-cdc0-4dc8-8a66-6bbcb8ac1347"
      },
      "source": [
        "plt.plot(train_hist_x,train_loss_hist)\n",
        "plt.plot(test_hist_x,test_loss_hist)\n",
        "plt.title('Loss vs. Batch Number')\n",
        "plt.legend(['train loss', 'validation loss'])\n",
        "plt.xlabel('Batch number')\n",
        "plt.ylabel('Loss')\n",
        "plt.yscale('log')\n",
        "plt.show()"
      ],
      "execution_count": 143,
      "outputs": [
        {
          "output_type": "display_data",
          "data": {
            "image/png": "[encoded data removed]",
            "text/plain": [
              "<Figure size 432x288 with 1 Axes>"
            ]
          },
          "metadata": {
            "needs_background": "light"
          }
        }
      ]
    },
    {
      "cell_type": "markdown",
      "metadata": {
        "id": "ROEVBWke6X41"
      },
      "source": [
        "The plot above shows positive results! Over the course of our training, our loss function minimizes suggesting that we've reached a near-optimum set of weights.\n",
        "\n",
        "To prevent overfitting, we reduced the number of epochs to 3, where we observed that the model weights first converged to the minimum gradient."
      ]
    },
    {
      "cell_type": "code",
      "metadata": {
        "id": "JNX7t0DqE7uO",
        "colab": {
          "base_uri": "https://localhost:8080/"
        },
        "outputId": "9b60ee81-91cc-4e2d-ac01-35dad083bf83"
      },
      "source": [
        "n_correct = 0\n",
        "n_total = 0\n",
        "for i, data in enumerate(train_loader, 0):\n",
        "    # Get inputs in right form\n",
        "    inputs, labels = data\n",
        "    inputs = inputs.type(torch.FloatTensor)\n",
        "    inputs, labels = Variable(inputs).to(device), Variable(labels).to(device)\n",
        "\n",
        "    # Forward pass\n",
        "    outputs = net(inputs)\n",
        "    n_correct += np.sum(np.argmax(outputs.cpu().detach().numpy(), axis=1) == labels.cpu().numpy())\n",
        "    n_total += labels.shape[0]\n",
        "print(\"Training accuracy is\", n_correct/n_total)\n",
        "\n",
        "n_correct = 0\n",
        "n_total = 0\n",
        "for i, data in enumerate(test_loader, 0):\n",
        "    # Get inputs in right form\n",
        "    inputs, labels = data\n",
        "    inputs = inputs.type(torch.FloatTensor)\n",
        "    inputs, labels = Variable(inputs).to(device), Variable(labels).to(device)\n",
        "\n",
        "    # Forward pass\n",
        "    outputs = net(inputs)\n",
        "    n_correct += np.sum(np.argmax(outputs.cpu().detach().numpy(), axis=1) == labels.cpu().numpy())\n",
        "    n_total += labels.shape[0]\n",
        "print(\"Validation accuracy is\", n_correct/n_total)"
      ],
      "execution_count": 144,
      "outputs": [
        {
          "output_type": "stream",
          "name": "stdout",
          "text": [
            "Training accuracy is 0.9978145659181555\n",
            "Validation accuracy is 0.9954108391608392\n"
          ]
        }
      ]
    },
    {
      "cell_type": "markdown",
      "metadata": {
        "id": "LrcJZFFJ6ka0"
      },
      "source": [
        "The results above indicate that we've reached nearly 99% training accuracy when testing against the samples we've trained with. This is a good start, but we need to now try this against external test cases to see how well our model works."
      ]
    },
    {
      "cell_type": "markdown",
      "metadata": {
        "id": "15BAm7yzF9Xk"
      },
      "source": [
        "### Test data\n",
        "\n",
        "We also tested this model against the provided test dataset. These images are not present in the training dataset, so the performance from these images should reflect the performance of the algorithm in the real world, though it assumes the algorithm is used in a similar environment as this dataset.\n",
        "\n",
        "One limitation of this is that the test and training dataset have very similar conditions, such as the skin tone and the background. We will explore this later on."
      ]
    },
    {
      "cell_type": "code",
      "metadata": {
        "id": "TrfQKaolF_ON",
        "colab": {
          "base_uri": "https://localhost:8080/",
          "height": 253
        },
        "outputId": "f4e32e9f-4bf5-4728-e58c-784d31a585d7"
      },
      "source": [
        "test_df = pd.read_csv('sign_mnist_test.csv')\n",
        "test_df.head()"
      ],
      "execution_count": null,
      "outputs": [
        {
          "output_type": "execute_result",
          "data": {
            "text/html": [
              "<div>\n",
              "<style scoped>\n",
              "    .dataframe tbody tr th:only-of-type {\n",
              "        vertical-align: middle;\n",
              "    }\n",
              "\n",
              "    .dataframe tbody tr th {\n",
              "        vertical-align: top;\n",
              "    }\n",
              "\n",
              "    .dataframe thead th {\n",
              "        text-align: right;\n",
              "    }\n",
              "</style>\n",
              "<table border=\"1\" class=\"dataframe\">\n",
              "  <thead>\n",
              "    <tr style=\"text-align: right;\">\n",
              "      <th></th>\n",
              "      <th>label</th>\n",
              "      <th>pixel1</th>\n",
              "      <th>pixel2</th>\n",
              "      <th>pixel3</th>\n",
              "      <th>pixel4</th>\n",
              "      <th>pixel5</th>\n",
              "      <th>pixel6</th>\n",
              "      <th>pixel7</th>\n",
              "      <th>pixel8</th>\n",
              "      <th>pixel9</th>\n",
              "      <th>pixel10</th>\n",
              "      <th>pixel11</th>\n",
              "      <th>pixel12</th>\n",
              "      <th>pixel13</th>\n",
              "      <th>pixel14</th>\n",
              "      <th>pixel15</th>\n",
              "      <th>pixel16</th>\n",
              "      <th>pixel17</th>\n",
              "      <th>pixel18</th>\n",
              "      <th>pixel19</th>\n",
              "      <th>pixel20</th>\n",
              "      <th>pixel21</th>\n",
              "      <th>pixel22</th>\n",
              "      <th>pixel23</th>\n",
              "      <th>pixel24</th>\n",
              "      <th>pixel25</th>\n",
              "      <th>pixel26</th>\n",
              "      <th>pixel27</th>\n",
              "      <th>pixel28</th>\n",
              "      <th>pixel29</th>\n",
              "      <th>pixel30</th>\n",
              "      <th>pixel31</th>\n",
              "      <th>pixel32</th>\n",
              "      <th>pixel33</th>\n",
              "      <th>pixel34</th>\n",
              "      <th>pixel35</th>\n",
              "      <th>pixel36</th>\n",
              "      <th>pixel37</th>\n",
              "      <th>pixel38</th>\n",
              "      <th>pixel39</th>\n",
              "      <th>...</th>\n",
              "      <th>pixel745</th>\n",
              "      <th>pixel746</th>\n",
              "      <th>pixel747</th>\n",
              "      <th>pixel748</th>\n",
              "      <th>pixel749</th>\n",
              "      <th>pixel750</th>\n",
              "      <th>pixel751</th>\n",
              "      <th>pixel752</th>\n",
              "      <th>pixel753</th>\n",
              "      <th>pixel754</th>\n",
              "      <th>pixel755</th>\n",
              "      <th>pixel756</th>\n",
              "      <th>pixel757</th>\n",
              "      <th>pixel758</th>\n",
              "      <th>pixel759</th>\n",
              "      <th>pixel760</th>\n",
              "      <th>pixel761</th>\n",
              "      <th>pixel762</th>\n",
              "      <th>pixel763</th>\n",
              "      <th>pixel764</th>\n",
              "      <th>pixel765</th>\n",
              "      <th>pixel766</th>\n",
              "      <th>pixel767</th>\n",
              "      <th>pixel768</th>\n",
              "      <th>pixel769</th>\n",
              "      <th>pixel770</th>\n",
              "      <th>pixel771</th>\n",
              "      <th>pixel772</th>\n",
              "      <th>pixel773</th>\n",
              "      <th>pixel774</th>\n",
              "      <th>pixel775</th>\n",
              "      <th>pixel776</th>\n",
              "      <th>pixel777</th>\n",
              "      <th>pixel778</th>\n",
              "      <th>pixel779</th>\n",
              "      <th>pixel780</th>\n",
              "      <th>pixel781</th>\n",
              "      <th>pixel782</th>\n",
              "      <th>pixel783</th>\n",
              "      <th>pixel784</th>\n",
              "    </tr>\n",
              "  </thead>\n",
              "  <tbody>\n",
              "    <tr>\n",
              "      <th>0</th>\n",
              "      <td>6</td>\n",
              "      <td>149</td>\n",
              "      <td>149</td>\n",
              "      <td>150</td>\n",
              "      <td>150</td>\n",
              "      <td>150</td>\n",
              "      <td>151</td>\n",
              "      <td>151</td>\n",
              "      <td>150</td>\n",
              "      <td>151</td>\n",
              "      <td>152</td>\n",
              "      <td>152</td>\n",
              "      <td>152</td>\n",
              "      <td>152</td>\n",
              "      <td>152</td>\n",
              "      <td>153</td>\n",
              "      <td>153</td>\n",
              "      <td>151</td>\n",
              "      <td>152</td>\n",
              "      <td>152</td>\n",
              "      <td>153</td>\n",
              "      <td>152</td>\n",
              "      <td>152</td>\n",
              "      <td>151</td>\n",
              "      <td>151</td>\n",
              "      <td>150</td>\n",
              "      <td>150</td>\n",
              "      <td>150</td>\n",
              "      <td>149</td>\n",
              "      <td>150</td>\n",
              "      <td>150</td>\n",
              "      <td>150</td>\n",
              "      <td>152</td>\n",
              "      <td>152</td>\n",
              "      <td>151</td>\n",
              "      <td>152</td>\n",
              "      <td>152</td>\n",
              "      <td>152</td>\n",
              "      <td>152</td>\n",
              "      <td>152</td>\n",
              "      <td>...</td>\n",
              "      <td>131</td>\n",
              "      <td>134</td>\n",
              "      <td>144</td>\n",
              "      <td>147</td>\n",
              "      <td>125</td>\n",
              "      <td>87</td>\n",
              "      <td>87</td>\n",
              "      <td>103</td>\n",
              "      <td>107</td>\n",
              "      <td>110</td>\n",
              "      <td>116</td>\n",
              "      <td>113</td>\n",
              "      <td>75</td>\n",
              "      <td>74</td>\n",
              "      <td>74</td>\n",
              "      <td>74</td>\n",
              "      <td>76</td>\n",
              "      <td>74</td>\n",
              "      <td>82</td>\n",
              "      <td>134</td>\n",
              "      <td>168</td>\n",
              "      <td>155</td>\n",
              "      <td>146</td>\n",
              "      <td>137</td>\n",
              "      <td>145</td>\n",
              "      <td>146</td>\n",
              "      <td>149</td>\n",
              "      <td>135</td>\n",
              "      <td>124</td>\n",
              "      <td>125</td>\n",
              "      <td>138</td>\n",
              "      <td>148</td>\n",
              "      <td>127</td>\n",
              "      <td>89</td>\n",
              "      <td>82</td>\n",
              "      <td>96</td>\n",
              "      <td>106</td>\n",
              "      <td>112</td>\n",
              "      <td>120</td>\n",
              "      <td>107</td>\n",
              "    </tr>\n",
              "    <tr>\n",
              "      <th>1</th>\n",
              "      <td>5</td>\n",
              "      <td>126</td>\n",
              "      <td>128</td>\n",
              "      <td>131</td>\n",
              "      <td>132</td>\n",
              "      <td>133</td>\n",
              "      <td>134</td>\n",
              "      <td>135</td>\n",
              "      <td>135</td>\n",
              "      <td>136</td>\n",
              "      <td>138</td>\n",
              "      <td>137</td>\n",
              "      <td>137</td>\n",
              "      <td>138</td>\n",
              "      <td>138</td>\n",
              "      <td>139</td>\n",
              "      <td>137</td>\n",
              "      <td>142</td>\n",
              "      <td>140</td>\n",
              "      <td>138</td>\n",
              "      <td>139</td>\n",
              "      <td>137</td>\n",
              "      <td>137</td>\n",
              "      <td>136</td>\n",
              "      <td>135</td>\n",
              "      <td>134</td>\n",
              "      <td>133</td>\n",
              "      <td>134</td>\n",
              "      <td>132</td>\n",
              "      <td>129</td>\n",
              "      <td>132</td>\n",
              "      <td>134</td>\n",
              "      <td>135</td>\n",
              "      <td>135</td>\n",
              "      <td>137</td>\n",
              "      <td>139</td>\n",
              "      <td>139</td>\n",
              "      <td>139</td>\n",
              "      <td>140</td>\n",
              "      <td>141</td>\n",
              "      <td>...</td>\n",
              "      <td>114</td>\n",
              "      <td>112</td>\n",
              "      <td>89</td>\n",
              "      <td>48</td>\n",
              "      <td>133</td>\n",
              "      <td>194</td>\n",
              "      <td>182</td>\n",
              "      <td>185</td>\n",
              "      <td>184</td>\n",
              "      <td>184</td>\n",
              "      <td>182</td>\n",
              "      <td>181</td>\n",
              "      <td>172</td>\n",
              "      <td>174</td>\n",
              "      <td>177</td>\n",
              "      <td>178</td>\n",
              "      <td>178</td>\n",
              "      <td>179</td>\n",
              "      <td>181</td>\n",
              "      <td>183</td>\n",
              "      <td>187</td>\n",
              "      <td>175</td>\n",
              "      <td>165</td>\n",
              "      <td>154</td>\n",
              "      <td>118</td>\n",
              "      <td>107</td>\n",
              "      <td>100</td>\n",
              "      <td>75</td>\n",
              "      <td>96</td>\n",
              "      <td>83</td>\n",
              "      <td>47</td>\n",
              "      <td>104</td>\n",
              "      <td>194</td>\n",
              "      <td>183</td>\n",
              "      <td>186</td>\n",
              "      <td>184</td>\n",
              "      <td>184</td>\n",
              "      <td>184</td>\n",
              "      <td>182</td>\n",
              "      <td>180</td>\n",
              "    </tr>\n",
              "    <tr>\n",
              "      <th>2</th>\n",
              "      <td>10</td>\n",
              "      <td>85</td>\n",
              "      <td>88</td>\n",
              "      <td>92</td>\n",
              "      <td>96</td>\n",
              "      <td>105</td>\n",
              "      <td>123</td>\n",
              "      <td>135</td>\n",
              "      <td>143</td>\n",
              "      <td>147</td>\n",
              "      <td>152</td>\n",
              "      <td>157</td>\n",
              "      <td>163</td>\n",
              "      <td>168</td>\n",
              "      <td>171</td>\n",
              "      <td>182</td>\n",
              "      <td>172</td>\n",
              "      <td>175</td>\n",
              "      <td>185</td>\n",
              "      <td>183</td>\n",
              "      <td>184</td>\n",
              "      <td>185</td>\n",
              "      <td>185</td>\n",
              "      <td>185</td>\n",
              "      <td>183</td>\n",
              "      <td>183</td>\n",
              "      <td>182</td>\n",
              "      <td>181</td>\n",
              "      <td>178</td>\n",
              "      <td>86</td>\n",
              "      <td>88</td>\n",
              "      <td>93</td>\n",
              "      <td>96</td>\n",
              "      <td>108</td>\n",
              "      <td>125</td>\n",
              "      <td>137</td>\n",
              "      <td>145</td>\n",
              "      <td>149</td>\n",
              "      <td>154</td>\n",
              "      <td>160</td>\n",
              "      <td>...</td>\n",
              "      <td>145</td>\n",
              "      <td>123</td>\n",
              "      <td>78</td>\n",
              "      <td>162</td>\n",
              "      <td>239</td>\n",
              "      <td>227</td>\n",
              "      <td>229</td>\n",
              "      <td>226</td>\n",
              "      <td>226</td>\n",
              "      <td>225</td>\n",
              "      <td>224</td>\n",
              "      <td>222</td>\n",
              "      <td>89</td>\n",
              "      <td>91</td>\n",
              "      <td>94</td>\n",
              "      <td>111</td>\n",
              "      <td>136</td>\n",
              "      <td>154</td>\n",
              "      <td>167</td>\n",
              "      <td>184</td>\n",
              "      <td>125</td>\n",
              "      <td>3</td>\n",
              "      <td>166</td>\n",
              "      <td>225</td>\n",
              "      <td>195</td>\n",
              "      <td>188</td>\n",
              "      <td>172</td>\n",
              "      <td>185</td>\n",
              "      <td>161</td>\n",
              "      <td>122</td>\n",
              "      <td>68</td>\n",
              "      <td>166</td>\n",
              "      <td>242</td>\n",
              "      <td>227</td>\n",
              "      <td>230</td>\n",
              "      <td>227</td>\n",
              "      <td>226</td>\n",
              "      <td>225</td>\n",
              "      <td>224</td>\n",
              "      <td>222</td>\n",
              "    </tr>\n",
              "    <tr>\n",
              "      <th>3</th>\n",
              "      <td>0</td>\n",
              "      <td>203</td>\n",
              "      <td>205</td>\n",
              "      <td>207</td>\n",
              "      <td>206</td>\n",
              "      <td>207</td>\n",
              "      <td>209</td>\n",
              "      <td>210</td>\n",
              "      <td>209</td>\n",
              "      <td>210</td>\n",
              "      <td>209</td>\n",
              "      <td>208</td>\n",
              "      <td>207</td>\n",
              "      <td>207</td>\n",
              "      <td>209</td>\n",
              "      <td>208</td>\n",
              "      <td>210</td>\n",
              "      <td>210</td>\n",
              "      <td>207</td>\n",
              "      <td>209</td>\n",
              "      <td>209</td>\n",
              "      <td>208</td>\n",
              "      <td>209</td>\n",
              "      <td>210</td>\n",
              "      <td>209</td>\n",
              "      <td>207</td>\n",
              "      <td>208</td>\n",
              "      <td>209</td>\n",
              "      <td>207</td>\n",
              "      <td>206</td>\n",
              "      <td>208</td>\n",
              "      <td>209</td>\n",
              "      <td>208</td>\n",
              "      <td>208</td>\n",
              "      <td>210</td>\n",
              "      <td>211</td>\n",
              "      <td>210</td>\n",
              "      <td>211</td>\n",
              "      <td>209</td>\n",
              "      <td>209</td>\n",
              "      <td>...</td>\n",
              "      <td>85</td>\n",
              "      <td>80</td>\n",
              "      <td>84</td>\n",
              "      <td>151</td>\n",
              "      <td>238</td>\n",
              "      <td>255</td>\n",
              "      <td>255</td>\n",
              "      <td>250</td>\n",
              "      <td>237</td>\n",
              "      <td>245</td>\n",
              "      <td>250</td>\n",
              "      <td>232</td>\n",
              "      <td>103</td>\n",
              "      <td>101</td>\n",
              "      <td>102</td>\n",
              "      <td>103</td>\n",
              "      <td>95</td>\n",
              "      <td>208</td>\n",
              "      <td>231</td>\n",
              "      <td>227</td>\n",
              "      <td>209</td>\n",
              "      <td>190</td>\n",
              "      <td>179</td>\n",
              "      <td>182</td>\n",
              "      <td>152</td>\n",
              "      <td>150</td>\n",
              "      <td>159</td>\n",
              "      <td>119</td>\n",
              "      <td>83</td>\n",
              "      <td>63</td>\n",
              "      <td>154</td>\n",
              "      <td>248</td>\n",
              "      <td>247</td>\n",
              "      <td>248</td>\n",
              "      <td>253</td>\n",
              "      <td>236</td>\n",
              "      <td>230</td>\n",
              "      <td>240</td>\n",
              "      <td>253</td>\n",
              "      <td>255</td>\n",
              "    </tr>\n",
              "    <tr>\n",
              "      <th>4</th>\n",
              "      <td>3</td>\n",
              "      <td>188</td>\n",
              "      <td>191</td>\n",
              "      <td>193</td>\n",
              "      <td>195</td>\n",
              "      <td>199</td>\n",
              "      <td>201</td>\n",
              "      <td>202</td>\n",
              "      <td>203</td>\n",
              "      <td>203</td>\n",
              "      <td>203</td>\n",
              "      <td>204</td>\n",
              "      <td>204</td>\n",
              "      <td>204</td>\n",
              "      <td>203</td>\n",
              "      <td>202</td>\n",
              "      <td>198</td>\n",
              "      <td>216</td>\n",
              "      <td>217</td>\n",
              "      <td>135</td>\n",
              "      <td>181</td>\n",
              "      <td>200</td>\n",
              "      <td>195</td>\n",
              "      <td>194</td>\n",
              "      <td>193</td>\n",
              "      <td>190</td>\n",
              "      <td>189</td>\n",
              "      <td>187</td>\n",
              "      <td>185</td>\n",
              "      <td>190</td>\n",
              "      <td>194</td>\n",
              "      <td>196</td>\n",
              "      <td>197</td>\n",
              "      <td>200</td>\n",
              "      <td>202</td>\n",
              "      <td>204</td>\n",
              "      <td>206</td>\n",
              "      <td>207</td>\n",
              "      <td>207</td>\n",
              "      <td>206</td>\n",
              "      <td>...</td>\n",
              "      <td>93</td>\n",
              "      <td>52</td>\n",
              "      <td>24</td>\n",
              "      <td>53</td>\n",
              "      <td>63</td>\n",
              "      <td>33</td>\n",
              "      <td>41</td>\n",
              "      <td>51</td>\n",
              "      <td>48</td>\n",
              "      <td>45</td>\n",
              "      <td>49</td>\n",
              "      <td>55</td>\n",
              "      <td>149</td>\n",
              "      <td>150</td>\n",
              "      <td>150</td>\n",
              "      <td>148</td>\n",
              "      <td>147</td>\n",
              "      <td>151</td>\n",
              "      <td>124</td>\n",
              "      <td>82</td>\n",
              "      <td>84</td>\n",
              "      <td>81</td>\n",
              "      <td>69</td>\n",
              "      <td>81</td>\n",
              "      <td>111</td>\n",
              "      <td>103</td>\n",
              "      <td>84</td>\n",
              "      <td>75</td>\n",
              "      <td>53</td>\n",
              "      <td>28</td>\n",
              "      <td>26</td>\n",
              "      <td>40</td>\n",
              "      <td>64</td>\n",
              "      <td>48</td>\n",
              "      <td>29</td>\n",
              "      <td>46</td>\n",
              "      <td>49</td>\n",
              "      <td>46</td>\n",
              "      <td>46</td>\n",
              "      <td>53</td>\n",
              "    </tr>\n",
              "  </tbody>\n",
              "</table>\n",
              "<p>5 rows × 785 columns</p>\n",
              "</div>"
            ],
            "text/plain": [
              "   label  pixel1  pixel2  pixel3  ...  pixel781  pixel782  pixel783  pixel784\n",
              "0      6     149     149     150  ...       106       112       120       107\n",
              "1      5     126     128     131  ...       184       184       182       180\n",
              "2     10      85      88      92  ...       226       225       224       222\n",
              "3      0     203     205     207  ...       230       240       253       255\n",
              "4      3     188     191     193  ...        49        46        46        53\n",
              "\n",
              "[5 rows x 785 columns]"
            ]
          },
          "metadata": {},
          "execution_count": 34
        }
      ]
    },
    {
      "cell_type": "code",
      "metadata": {
        "id": "6WDpXxqmGHfq"
      },
      "source": [
        "final_test_dataset = SignMINSTDataset(test_df, classes)\n",
        "final_test_loader = torch.utils.data.DataLoader(final_test_dataset, batch_size=batch_size, num_workers=2)"
      ],
      "execution_count": null,
      "outputs": []
    },
    {
      "cell_type": "code",
      "metadata": {
        "id": "bukz-3uhGgh-",
        "colab": {
          "base_uri": "https://localhost:8080/"
        },
        "outputId": "ac426859-d18c-4702-c650-9f53a0e4a5ae"
      },
      "source": [
        "n_correct = 0\n",
        "n_total = 0\n",
        "for i, data in enumerate(final_test_loader, 0):\n",
        "    # Get inputs in right form\n",
        "    inputs, labels = data\n",
        "    inputs = inputs.type(torch.FloatTensor)\n",
        "    inputs, labels = Variable(inputs).to(device), Variable(labels).to(device)\n",
        "\n",
        "    # Forward pass\n",
        "    outputs = net(inputs)\n",
        "    n_correct += np.sum(np.argmax(outputs.cpu().detach().numpy(), axis=1) == labels.cpu().numpy())\n",
        "    n_total += labels.shape[0]\n",
        "print(\"Test accuracy is\", n_correct/n_total)"
      ],
      "execution_count": null,
      "outputs": [
        {
          "output_type": "stream",
          "name": "stdout",
          "text": [
            "Test accuracy is 0.6972950362520914\n"
          ]
        }
      ]
    },
    {
      "cell_type": "markdown",
      "metadata": {
        "id": "hSeSsvMF5oep"
      },
      "source": [
        "As expected, the accuracy is significantly lower than the validation accuracy, found using the training dataset. We have tweaked the training parameters and found the best we can get is around 70%."
      ]
    },
    {
      "cell_type": "markdown",
      "metadata": {
        "id": "qpoxAqAWfFMe"
      },
      "source": [
        "## Exploring the Impact of Differing Backgrounds + Skin Tone"
      ]
    },
    {
      "cell_type": "markdown",
      "metadata": {
        "id": "kEH4XTF080zu"
      },
      "source": [
        "We wanted to take some time to consider the potential unwanted impact this algorithm may have if implemented in the real world. This was alluded to a bit In the beginning of the notebook with some of the questions we raised, which were focused mainly on background lighting and diversity of skin tones. During our exploration of the dataset, we noticed that a lot of the pictures were taken with specific lighting, and that all the hands had light skin tones. \n",
        "\n",
        "That said, we wanted to see how the model we trained based on this data would respond to hand signs with different lighting/backgrounds as well as darker skin tones. \n",
        "\n",
        "As a point of reference, the model tested ~60-70% accurate against the provided testing dataset.\n",
        "\n",
        "To explore the effects of differing backgrounds/lighting, we then tested against Justin’s hands, which are fairly light toned. As a control, we took four pictures against a white background akin to that of the dataset. As an experimental set, we also took a few pictures with the same hand signs against the window with harsher lighting conditions.\n",
        "\n",
        "To explore how different skin tones would impact the results, we also set up a second experiment group with a friend who has darker skin, signing the same symbols.\n"
      ]
    },
    {
      "cell_type": "code",
      "metadata": {
        "id": "RGOP99RHfEy6",
        "colab": {
          "base_uri": "https://localhost:8080/"
        },
        "outputId": "4d8981b2-044b-43bb-e668-4f2fcc79eed4"
      },
      "source": [
        "# Download Self-Collected Data\n",
        "\n",
        "gdown.download('https://drive.google.com/uc?authuser=0&id=1h2NEr_IWxp1cOnU5gv6YoFGGiLcK1nZ8&export=download', \n",
        "               'pictures.zip', quiet=False)\n",
        "gdown.download('https://drive.google.com/uc?authuser=0&id=1OvOQdxca7KCPoiT7TtjDNGcXTpmiAfvd&export=download', \n",
        "               'adi_pictures.zip', quiet=False)\n",
        "\n",
        "!unzip -qq -o pictures.zip\n",
        "!unzip -qq -o adi_pictures.zip"
      ],
      "execution_count": null,
      "outputs": [
        {
          "output_type": "stream",
          "name": "stderr",
          "text": [
            "Downloading...\n",
            "From: https://drive.google.com/uc?authuser=0&id=1h2NEr_IWxp1cOnU5gv6YoFGGiLcK1nZ8&export=download\n",
            "To: /content/pictures.zip\n",
            "100%|██████████| 50.8k/50.8k [00:00<00:00, 13.4MB/s]\n",
            "Downloading...\n",
            "From: https://drive.google.com/uc?authuser=0&id=1OvOQdxca7KCPoiT7TtjDNGcXTpmiAfvd&export=download\n",
            "To: /content/adi_pictures.zip\n",
            "100%|██████████| 26.8k/26.8k [00:00<00:00, 6.80MB/s]\n"
          ]
        }
      ]
    },
    {
      "cell_type": "code",
      "metadata": {
        "id": "NeSFfMoVfe9O",
        "colab": {
          "base_uri": "https://localhost:8080/"
        },
        "outputId": "5f06cf2e-47e1-4c81-ffe3-408ae724caae"
      },
      "source": [
        "# Unzip and Name of Images\n",
        "files = [i for i in os.listdir() if 'IMG' in i] + [os.path.join('adi_pictures', i) for i in os.listdir('adi_pictures')]\n",
        "files"
      ],
      "execution_count": null,
      "outputs": [
        {
          "output_type": "execute_result",
          "data": {
            "text/plain": [
              "['IMG_2092.png',\n",
              " 'IMG_2091.png',\n",
              " 'IMG_2090.png',\n",
              " 'IMG_2087.png',\n",
              " 'IMG_2089.png',\n",
              " 'IMG_2085.png',\n",
              " 'IMG_2086.png',\n",
              " 'IMG_2088.png',\n",
              " 'adi_pictures/adi_d.png',\n",
              " 'adi_pictures/adi_a.png',\n",
              " 'adi_pictures/adi_y.png',\n",
              " 'adi_pictures/adi_b.png']"
            ]
          },
          "metadata": {},
          "execution_count": 69
        }
      ]
    },
    {
      "cell_type": "markdown",
      "metadata": {
        "id": "mz5mdFY397NS"
      },
      "source": [
        "**Visualize the Control and Two Experiment Groups**"
      ]
    },
    {
      "cell_type": "code",
      "metadata": {
        "id": "NQw_6c0TfmkF",
        "colab": {
          "base_uri": "https://localhost:8080/",
          "height": 504
        },
        "outputId": "e0335870-1d7b-483a-fb53-f69c76ee5f3e"
      },
      "source": [
        "plt.subplots(3, 8, figsize=(15, 10))\n",
        "\n",
        "df_pictures = pd.DataFrame()\n",
        "\n",
        "for i, filename in enumerate(files):\n",
        "    img = cv2.imread(filename)\n",
        "    img = cv2.cvtColor(img, cv2.COLOR_BGR2RGB)\n",
        "\n",
        "    # Display RGB images\n",
        "    plt.subplot(3, 8, i * 2 + 1)\n",
        "    plt.axis('off')\n",
        "    plt.imshow(img)\n",
        "\n",
        "    img = cv2.cvtColor(img, cv2.COLOR_RGB2GRAY)\n",
        "\n",
        "    # Display grey images\n",
        "    plt.subplot(3, 8, i * 2 + 2)\n",
        "    plt.axis('off')\n",
        "    plt.imshow(img, cmap=\"gray\")\n",
        "\n",
        "    # Add img to dataframe\n",
        "    img.resize(28*28)\n",
        "    series = pd.Series(img)\n",
        "    df_pictures = df_pictures.append(series, ignore_index=True)\n"
      ],
      "execution_count": 131,
      "outputs": [
        {
          "output_type": "display_data",
          "data": {
            "image/png": "[encoded data removed]",
            "text/plain": [
              "<Figure size 1080x720 with 24 Axes>"
            ]
          },
          "metadata": {
            "needs_background": "light"
          }
        }
      ]
    },
    {
      "cell_type": "code",
      "metadata": {
        "id": "Md-UptoRlu37",
        "colab": {
          "base_uri": "https://localhost:8080/",
          "height": 253
        },
        "outputId": "f0e8b1d1-65b0-4243-b00d-8965ff6727e7"
      },
      "source": [
        "# Manually set labels\n",
        "df_pictures['label'] = [24, 24, 0, 1, 1, 3, 3, 0, 3, 0, 24, 1]\n",
        "df_pictures.head()"
      ],
      "execution_count": 132,
      "outputs": [
        {
          "output_type": "execute_result",
          "data": {
            "text/html": [
              "<div>\n",
              "<style scoped>\n",
              "    .dataframe tbody tr th:only-of-type {\n",
              "        vertical-align: middle;\n",
              "    }\n",
              "\n",
              "    .dataframe tbody tr th {\n",
              "        vertical-align: top;\n",
              "    }\n",
              "\n",
              "    .dataframe thead th {\n",
              "        text-align: right;\n",
              "    }\n",
              "</style>\n",
              "<table border=\"1\" class=\"dataframe\">\n",
              "  <thead>\n",
              "    <tr style=\"text-align: right;\">\n",
              "      <th></th>\n",
              "      <th>0</th>\n",
              "      <th>1</th>\n",
              "      <th>2</th>\n",
              "      <th>3</th>\n",
              "      <th>4</th>\n",
              "      <th>5</th>\n",
              "      <th>6</th>\n",
              "      <th>7</th>\n",
              "      <th>8</th>\n",
              "      <th>9</th>\n",
              "      <th>10</th>\n",
              "      <th>11</th>\n",
              "      <th>12</th>\n",
              "      <th>13</th>\n",
              "      <th>14</th>\n",
              "      <th>15</th>\n",
              "      <th>16</th>\n",
              "      <th>17</th>\n",
              "      <th>18</th>\n",
              "      <th>19</th>\n",
              "      <th>20</th>\n",
              "      <th>21</th>\n",
              "      <th>22</th>\n",
              "      <th>23</th>\n",
              "      <th>24</th>\n",
              "      <th>25</th>\n",
              "      <th>26</th>\n",
              "      <th>27</th>\n",
              "      <th>28</th>\n",
              "      <th>29</th>\n",
              "      <th>30</th>\n",
              "      <th>31</th>\n",
              "      <th>32</th>\n",
              "      <th>33</th>\n",
              "      <th>34</th>\n",
              "      <th>35</th>\n",
              "      <th>36</th>\n",
              "      <th>37</th>\n",
              "      <th>38</th>\n",
              "      <th>39</th>\n",
              "      <th>...</th>\n",
              "      <th>745</th>\n",
              "      <th>746</th>\n",
              "      <th>747</th>\n",
              "      <th>748</th>\n",
              "      <th>749</th>\n",
              "      <th>750</th>\n",
              "      <th>751</th>\n",
              "      <th>752</th>\n",
              "      <th>753</th>\n",
              "      <th>754</th>\n",
              "      <th>755</th>\n",
              "      <th>756</th>\n",
              "      <th>757</th>\n",
              "      <th>758</th>\n",
              "      <th>759</th>\n",
              "      <th>760</th>\n",
              "      <th>761</th>\n",
              "      <th>762</th>\n",
              "      <th>763</th>\n",
              "      <th>764</th>\n",
              "      <th>765</th>\n",
              "      <th>766</th>\n",
              "      <th>767</th>\n",
              "      <th>768</th>\n",
              "      <th>769</th>\n",
              "      <th>770</th>\n",
              "      <th>771</th>\n",
              "      <th>772</th>\n",
              "      <th>773</th>\n",
              "      <th>774</th>\n",
              "      <th>775</th>\n",
              "      <th>776</th>\n",
              "      <th>777</th>\n",
              "      <th>778</th>\n",
              "      <th>779</th>\n",
              "      <th>780</th>\n",
              "      <th>781</th>\n",
              "      <th>782</th>\n",
              "      <th>783</th>\n",
              "      <th>label</th>\n",
              "    </tr>\n",
              "  </thead>\n",
              "  <tbody>\n",
              "    <tr>\n",
              "      <th>0</th>\n",
              "      <td>119.0</td>\n",
              "      <td>177.0</td>\n",
              "      <td>218.0</td>\n",
              "      <td>131.0</td>\n",
              "      <td>105.0</td>\n",
              "      <td>123.0</td>\n",
              "      <td>117.0</td>\n",
              "      <td>110.0</td>\n",
              "      <td>100.0</td>\n",
              "      <td>99.0</td>\n",
              "      <td>101.0</td>\n",
              "      <td>107.0</td>\n",
              "      <td>103.0</td>\n",
              "      <td>107.0</td>\n",
              "      <td>112.0</td>\n",
              "      <td>111.0</td>\n",
              "      <td>104.0</td>\n",
              "      <td>94.0</td>\n",
              "      <td>109.0</td>\n",
              "      <td>116.0</td>\n",
              "      <td>90.0</td>\n",
              "      <td>109.0</td>\n",
              "      <td>106.0</td>\n",
              "      <td>82.0</td>\n",
              "      <td>102.0</td>\n",
              "      <td>164.0</td>\n",
              "      <td>132.0</td>\n",
              "      <td>121.0</td>\n",
              "      <td>189.0</td>\n",
              "      <td>196.0</td>\n",
              "      <td>151.0</td>\n",
              "      <td>100.0</td>\n",
              "      <td>94.0</td>\n",
              "      <td>124.0</td>\n",
              "      <td>121.0</td>\n",
              "      <td>112.0</td>\n",
              "      <td>107.0</td>\n",
              "      <td>104.0</td>\n",
              "      <td>105.0</td>\n",
              "      <td>121.0</td>\n",
              "      <td>...</td>\n",
              "      <td>153.0</td>\n",
              "      <td>157.0</td>\n",
              "      <td>158.0</td>\n",
              "      <td>168.0</td>\n",
              "      <td>152.0</td>\n",
              "      <td>108.0</td>\n",
              "      <td>113.0</td>\n",
              "      <td>115.0</td>\n",
              "      <td>115.0</td>\n",
              "      <td>103.0</td>\n",
              "      <td>107.0</td>\n",
              "      <td>115.0</td>\n",
              "      <td>101.0</td>\n",
              "      <td>108.0</td>\n",
              "      <td>108.0</td>\n",
              "      <td>112.0</td>\n",
              "      <td>107.0</td>\n",
              "      <td>100.0</td>\n",
              "      <td>105.0</td>\n",
              "      <td>101.0</td>\n",
              "      <td>99.0</td>\n",
              "      <td>106.0</td>\n",
              "      <td>95.0</td>\n",
              "      <td>111.0</td>\n",
              "      <td>147.0</td>\n",
              "      <td>145.0</td>\n",
              "      <td>144.0</td>\n",
              "      <td>145.0</td>\n",
              "      <td>152.0</td>\n",
              "      <td>155.0</td>\n",
              "      <td>158.0</td>\n",
              "      <td>163.0</td>\n",
              "      <td>165.0</td>\n",
              "      <td>161.0</td>\n",
              "      <td>156.0</td>\n",
              "      <td>156.0</td>\n",
              "      <td>151.0</td>\n",
              "      <td>146.0</td>\n",
              "      <td>150.0</td>\n",
              "      <td>24</td>\n",
              "    </tr>\n",
              "    <tr>\n",
              "      <th>1</th>\n",
              "      <td>79.0</td>\n",
              "      <td>82.0</td>\n",
              "      <td>92.0</td>\n",
              "      <td>167.0</td>\n",
              "      <td>152.0</td>\n",
              "      <td>88.0</td>\n",
              "      <td>93.0</td>\n",
              "      <td>104.0</td>\n",
              "      <td>90.0</td>\n",
              "      <td>92.0</td>\n",
              "      <td>100.0</td>\n",
              "      <td>117.0</td>\n",
              "      <td>107.0</td>\n",
              "      <td>108.0</td>\n",
              "      <td>113.0</td>\n",
              "      <td>111.0</td>\n",
              "      <td>108.0</td>\n",
              "      <td>108.0</td>\n",
              "      <td>99.0</td>\n",
              "      <td>103.0</td>\n",
              "      <td>106.0</td>\n",
              "      <td>83.0</td>\n",
              "      <td>97.0</td>\n",
              "      <td>98.0</td>\n",
              "      <td>78.0</td>\n",
              "      <td>88.0</td>\n",
              "      <td>162.0</td>\n",
              "      <td>124.0</td>\n",
              "      <td>106.0</td>\n",
              "      <td>128.0</td>\n",
              "      <td>174.0</td>\n",
              "      <td>211.0</td>\n",
              "      <td>123.0</td>\n",
              "      <td>82.0</td>\n",
              "      <td>106.0</td>\n",
              "      <td>112.0</td>\n",
              "      <td>105.0</td>\n",
              "      <td>97.0</td>\n",
              "      <td>92.0</td>\n",
              "      <td>93.0</td>\n",
              "      <td>...</td>\n",
              "      <td>162.0</td>\n",
              "      <td>139.0</td>\n",
              "      <td>87.0</td>\n",
              "      <td>96.0</td>\n",
              "      <td>90.0</td>\n",
              "      <td>89.0</td>\n",
              "      <td>89.0</td>\n",
              "      <td>93.0</td>\n",
              "      <td>96.0</td>\n",
              "      <td>99.0</td>\n",
              "      <td>80.0</td>\n",
              "      <td>95.0</td>\n",
              "      <td>97.0</td>\n",
              "      <td>82.0</td>\n",
              "      <td>87.0</td>\n",
              "      <td>91.0</td>\n",
              "      <td>94.0</td>\n",
              "      <td>90.0</td>\n",
              "      <td>83.0</td>\n",
              "      <td>81.0</td>\n",
              "      <td>84.0</td>\n",
              "      <td>131.0</td>\n",
              "      <td>125.0</td>\n",
              "      <td>121.0</td>\n",
              "      <td>124.0</td>\n",
              "      <td>136.0</td>\n",
              "      <td>146.0</td>\n",
              "      <td>151.0</td>\n",
              "      <td>156.0</td>\n",
              "      <td>148.0</td>\n",
              "      <td>139.0</td>\n",
              "      <td>140.0</td>\n",
              "      <td>135.0</td>\n",
              "      <td>134.0</td>\n",
              "      <td>128.0</td>\n",
              "      <td>123.0</td>\n",
              "      <td>124.0</td>\n",
              "      <td>121.0</td>\n",
              "      <td>116.0</td>\n",
              "      <td>24</td>\n",
              "    </tr>\n",
              "    <tr>\n",
              "      <th>2</th>\n",
              "      <td>95.0</td>\n",
              "      <td>97.0</td>\n",
              "      <td>99.0</td>\n",
              "      <td>89.0</td>\n",
              "      <td>83.0</td>\n",
              "      <td>73.0</td>\n",
              "      <td>96.0</td>\n",
              "      <td>87.0</td>\n",
              "      <td>80.0</td>\n",
              "      <td>78.0</td>\n",
              "      <td>82.0</td>\n",
              "      <td>93.0</td>\n",
              "      <td>103.0</td>\n",
              "      <td>120.0</td>\n",
              "      <td>136.0</td>\n",
              "      <td>136.0</td>\n",
              "      <td>146.0</td>\n",
              "      <td>147.0</td>\n",
              "      <td>131.0</td>\n",
              "      <td>131.0</td>\n",
              "      <td>133.0</td>\n",
              "      <td>114.0</td>\n",
              "      <td>105.0</td>\n",
              "      <td>112.0</td>\n",
              "      <td>121.0</td>\n",
              "      <td>128.0</td>\n",
              "      <td>95.0</td>\n",
              "      <td>91.0</td>\n",
              "      <td>90.0</td>\n",
              "      <td>81.0</td>\n",
              "      <td>87.0</td>\n",
              "      <td>80.0</td>\n",
              "      <td>79.0</td>\n",
              "      <td>102.0</td>\n",
              "      <td>99.0</td>\n",
              "      <td>68.0</td>\n",
              "      <td>81.0</td>\n",
              "      <td>78.0</td>\n",
              "      <td>73.0</td>\n",
              "      <td>93.0</td>\n",
              "      <td>...</td>\n",
              "      <td>158.0</td>\n",
              "      <td>159.0</td>\n",
              "      <td>158.0</td>\n",
              "      <td>158.0</td>\n",
              "      <td>115.0</td>\n",
              "      <td>90.0</td>\n",
              "      <td>91.0</td>\n",
              "      <td>97.0</td>\n",
              "      <td>109.0</td>\n",
              "      <td>104.0</td>\n",
              "      <td>78.0</td>\n",
              "      <td>95.0</td>\n",
              "      <td>88.0</td>\n",
              "      <td>81.0</td>\n",
              "      <td>74.0</td>\n",
              "      <td>84.0</td>\n",
              "      <td>90.0</td>\n",
              "      <td>89.0</td>\n",
              "      <td>87.0</td>\n",
              "      <td>90.0</td>\n",
              "      <td>80.0</td>\n",
              "      <td>66.0</td>\n",
              "      <td>70.0</td>\n",
              "      <td>124.0</td>\n",
              "      <td>134.0</td>\n",
              "      <td>141.0</td>\n",
              "      <td>147.0</td>\n",
              "      <td>154.0</td>\n",
              "      <td>157.0</td>\n",
              "      <td>157.0</td>\n",
              "      <td>156.0</td>\n",
              "      <td>158.0</td>\n",
              "      <td>131.0</td>\n",
              "      <td>81.0</td>\n",
              "      <td>91.0</td>\n",
              "      <td>93.0</td>\n",
              "      <td>97.0</td>\n",
              "      <td>100.0</td>\n",
              "      <td>98.0</td>\n",
              "      <td>0</td>\n",
              "    </tr>\n",
              "    <tr>\n",
              "      <th>3</th>\n",
              "      <td>197.0</td>\n",
              "      <td>196.0</td>\n",
              "      <td>195.0</td>\n",
              "      <td>195.0</td>\n",
              "      <td>196.0</td>\n",
              "      <td>196.0</td>\n",
              "      <td>197.0</td>\n",
              "      <td>197.0</td>\n",
              "      <td>198.0</td>\n",
              "      <td>198.0</td>\n",
              "      <td>198.0</td>\n",
              "      <td>199.0</td>\n",
              "      <td>199.0</td>\n",
              "      <td>200.0</td>\n",
              "      <td>201.0</td>\n",
              "      <td>201.0</td>\n",
              "      <td>201.0</td>\n",
              "      <td>202.0</td>\n",
              "      <td>201.0</td>\n",
              "      <td>201.0</td>\n",
              "      <td>201.0</td>\n",
              "      <td>201.0</td>\n",
              "      <td>201.0</td>\n",
              "      <td>201.0</td>\n",
              "      <td>201.0</td>\n",
              "      <td>201.0</td>\n",
              "      <td>200.0</td>\n",
              "      <td>201.0</td>\n",
              "      <td>193.0</td>\n",
              "      <td>193.0</td>\n",
              "      <td>193.0</td>\n",
              "      <td>193.0</td>\n",
              "      <td>194.0</td>\n",
              "      <td>194.0</td>\n",
              "      <td>195.0</td>\n",
              "      <td>196.0</td>\n",
              "      <td>196.0</td>\n",
              "      <td>197.0</td>\n",
              "      <td>197.0</td>\n",
              "      <td>198.0</td>\n",
              "      <td>...</td>\n",
              "      <td>132.0</td>\n",
              "      <td>133.0</td>\n",
              "      <td>126.0</td>\n",
              "      <td>128.0</td>\n",
              "      <td>172.0</td>\n",
              "      <td>169.0</td>\n",
              "      <td>169.0</td>\n",
              "      <td>169.0</td>\n",
              "      <td>170.0</td>\n",
              "      <td>170.0</td>\n",
              "      <td>171.0</td>\n",
              "      <td>165.0</td>\n",
              "      <td>162.0</td>\n",
              "      <td>161.0</td>\n",
              "      <td>160.0</td>\n",
              "      <td>161.0</td>\n",
              "      <td>161.0</td>\n",
              "      <td>162.0</td>\n",
              "      <td>162.0</td>\n",
              "      <td>163.0</td>\n",
              "      <td>158.0</td>\n",
              "      <td>104.0</td>\n",
              "      <td>103.0</td>\n",
              "      <td>132.0</td>\n",
              "      <td>138.0</td>\n",
              "      <td>140.0</td>\n",
              "      <td>148.0</td>\n",
              "      <td>145.0</td>\n",
              "      <td>137.0</td>\n",
              "      <td>132.0</td>\n",
              "      <td>126.0</td>\n",
              "      <td>120.0</td>\n",
              "      <td>169.0</td>\n",
              "      <td>170.0</td>\n",
              "      <td>170.0</td>\n",
              "      <td>170.0</td>\n",
              "      <td>170.0</td>\n",
              "      <td>171.0</td>\n",
              "      <td>173.0</td>\n",
              "      <td>1</td>\n",
              "    </tr>\n",
              "    <tr>\n",
              "      <th>4</th>\n",
              "      <td>84.0</td>\n",
              "      <td>102.0</td>\n",
              "      <td>84.0</td>\n",
              "      <td>75.0</td>\n",
              "      <td>94.0</td>\n",
              "      <td>100.0</td>\n",
              "      <td>65.0</td>\n",
              "      <td>78.0</td>\n",
              "      <td>78.0</td>\n",
              "      <td>77.0</td>\n",
              "      <td>95.0</td>\n",
              "      <td>115.0</td>\n",
              "      <td>116.0</td>\n",
              "      <td>111.0</td>\n",
              "      <td>110.0</td>\n",
              "      <td>120.0</td>\n",
              "      <td>123.0</td>\n",
              "      <td>111.0</td>\n",
              "      <td>114.0</td>\n",
              "      <td>115.0</td>\n",
              "      <td>103.0</td>\n",
              "      <td>101.0</td>\n",
              "      <td>107.0</td>\n",
              "      <td>110.0</td>\n",
              "      <td>109.0</td>\n",
              "      <td>88.0</td>\n",
              "      <td>82.0</td>\n",
              "      <td>65.0</td>\n",
              "      <td>79.0</td>\n",
              "      <td>83.0</td>\n",
              "      <td>109.0</td>\n",
              "      <td>172.0</td>\n",
              "      <td>123.0</td>\n",
              "      <td>75.0</td>\n",
              "      <td>85.0</td>\n",
              "      <td>89.0</td>\n",
              "      <td>82.0</td>\n",
              "      <td>82.0</td>\n",
              "      <td>92.0</td>\n",
              "      <td>105.0</td>\n",
              "      <td>...</td>\n",
              "      <td>161.0</td>\n",
              "      <td>163.0</td>\n",
              "      <td>129.0</td>\n",
              "      <td>78.0</td>\n",
              "      <td>83.0</td>\n",
              "      <td>85.0</td>\n",
              "      <td>89.0</td>\n",
              "      <td>103.0</td>\n",
              "      <td>98.0</td>\n",
              "      <td>79.0</td>\n",
              "      <td>74.0</td>\n",
              "      <td>91.0</td>\n",
              "      <td>77.0</td>\n",
              "      <td>76.0</td>\n",
              "      <td>82.0</td>\n",
              "      <td>80.0</td>\n",
              "      <td>82.0</td>\n",
              "      <td>81.0</td>\n",
              "      <td>74.0</td>\n",
              "      <td>84.0</td>\n",
              "      <td>119.0</td>\n",
              "      <td>118.0</td>\n",
              "      <td>131.0</td>\n",
              "      <td>140.0</td>\n",
              "      <td>148.0</td>\n",
              "      <td>158.0</td>\n",
              "      <td>162.0</td>\n",
              "      <td>162.0</td>\n",
              "      <td>162.0</td>\n",
              "      <td>160.0</td>\n",
              "      <td>141.0</td>\n",
              "      <td>89.0</td>\n",
              "      <td>83.0</td>\n",
              "      <td>89.0</td>\n",
              "      <td>89.0</td>\n",
              "      <td>90.0</td>\n",
              "      <td>98.0</td>\n",
              "      <td>97.0</td>\n",
              "      <td>75.0</td>\n",
              "      <td>1</td>\n",
              "    </tr>\n",
              "  </tbody>\n",
              "</table>\n",
              "<p>5 rows × 785 columns</p>\n",
              "</div>"
            ],
            "text/plain": [
              "       0      1      2      3      4  ...    780    781    782    783  label\n",
              "0  119.0  177.0  218.0  131.0  105.0  ...  156.0  151.0  146.0  150.0     24\n",
              "1   79.0   82.0   92.0  167.0  152.0  ...  123.0  124.0  121.0  116.0     24\n",
              "2   95.0   97.0   99.0   89.0   83.0  ...   93.0   97.0  100.0   98.0      0\n",
              "3  197.0  196.0  195.0  195.0  196.0  ...  170.0  170.0  171.0  173.0      1\n",
              "4   84.0  102.0   84.0   75.0   94.0  ...   90.0   98.0   97.0   75.0      1\n",
              "\n",
              "[5 rows x 785 columns]"
            ]
          },
          "metadata": {},
          "execution_count": 132
        }
      ]
    },
    {
      "cell_type": "markdown",
      "metadata": {
        "id": "9FNHlgsBz-Vy"
      },
      "source": [
        "**Results**"
      ]
    },
    {
      "cell_type": "code",
      "metadata": {
        "id": "mzVJnjfumEe-",
        "colab": {
          "base_uri": "https://localhost:8080/"
        },
        "outputId": "a059e003-e22e-4b41-bd33-59ab9425d612"
      },
      "source": [
        "pictures_dataset = SignMINSTDataset(df_pictures, classes)\n",
        "pictures_loader = torch.utils.data.DataLoader(pictures_dataset, batch_size=1, num_workers=1)\n",
        "\n",
        "n_correct = 0\n",
        "n_total = 0\n",
        "for i, data in enumerate(pictures_loader, 0):\n",
        "    # Get inputs in right form\n",
        "    inputs, labels = data\n",
        "    inputs = inputs.type(torch.FloatTensor)\n",
        "    inputs, labels = Variable(inputs).to(device), Variable(labels).to(device)\n",
        "\n",
        "    # Forward pass\n",
        "    outputs = net(inputs)\n",
        "    print(f\"Outputs: {np.argmax(outputs.cpu().detach().numpy(), axis=1)},\\tExpected: {int(labels[0])}\")\n",
        "    n_correct += np.sum(np.argmax(outputs.cpu().detach().numpy(), axis=1) == labels.cpu().numpy())\n",
        "    n_total += labels.shape[0]\n",
        "print(\"Picture accuracy is\", n_correct/n_total)"
      ],
      "execution_count": 135,
      "outputs": [
        {
          "output_type": "stream",
          "name": "stdout",
          "text": [
            "Outputs: [3],\tExpected: 24\n",
            "Outputs: [0],\tExpected: 24\n",
            "Outputs: [18],\tExpected: 0\n",
            "Outputs: [23],\tExpected: 1\n",
            "Outputs: [22],\tExpected: 1\n",
            "Outputs: [7],\tExpected: 3\n",
            "Outputs: [19],\tExpected: 3\n",
            "Outputs: [19],\tExpected: 0\n",
            "Outputs: [19],\tExpected: 3\n",
            "Outputs: [6],\tExpected: 0\n",
            "Outputs: [7],\tExpected: 24\n",
            "Outputs: [14],\tExpected: 1\n",
            "Picture accuracy is 0.0\n"
          ]
        }
      ]
    },
    {
      "cell_type": "markdown",
      "metadata": {
        "id": "mR5RXxcbv1PG"
      },
      "source": [
        "**Interpretation**\n",
        "\n",
        "The model had great difficulty classifying both groups, and the accuracy quickly plummeted to between 0-12%. It was a bit strange at first seeing the control set accuracy fall to 0%, but we believe this to be a flaw of the original dataset having such specific backgrounds and lighting conditions. If the dataset were more diverse, we’d believe that the model would do better with classifying our collected images.\n",
        "\n",
        "The same poor results were found when testing the model on the images with hands of a darker skin tone. As shown above, the accuracy remained 0%.\n",
        "\n",
        "Given that the model was able to classify more than 95% of the training set correctly, and 60-70% of the provided testing set, we believe that these poor accuracy results show that the model is just not robust to images differing in the slightest from the conditions present in the dataset. \n"
      ]
    },
    {
      "cell_type": "markdown",
      "metadata": {
        "id": "68Up-N5RozZm"
      },
      "source": [
        "## Additional Visualizations"
      ]
    },
    {
      "cell_type": "markdown",
      "metadata": {
        "id": "vzKTSRfY0-RE"
      },
      "source": [
        "**Visualizing Filters and the Impact of Convolution**"
      ]
    },
    {
      "cell_type": "markdown",
      "metadata": {
        "id": "zikVu56y2HDO"
      },
      "source": [
        "Beyond exploring the impact of differing backgrounds/lightings and skin tones, we also did some additional visualizations to better understand what the model was doing with the data it was testing on, specifically in the convolution step.\n",
        "\n",
        "\n",
        "Here, we visualize what the 16 filters applied as convolutions to the images look like. "
      ]
    },
    {
      "cell_type": "code",
      "metadata": {
        "id": "PRMvRqGVo0rs",
        "colab": {
          "base_uri": "https://localhost:8080/",
          "height": 248
        },
        "outputId": "1d92dc93-4353-48a2-a2aa-94e86e6856ae"
      },
      "source": [
        "plt.subplots(4, 4)\n",
        "for i in range(net.conv1.weight.shape[0]):\n",
        "    plt.subplot(4, 4, i+1)\n",
        "    plt.axis('off')\n",
        "    kernel = net.conv1.weight[i].cpu().detach().numpy()\n",
        "    im = kernel.mean(axis=0)\n",
        "    plt.pcolor(im, cmap='gray')"
      ],
      "execution_count": 138,
      "outputs": [
        {
          "output_type": "display_data",
          "data": {
            "image/png": "[encoded data removed]",
            "text/plain": [
              "<Figure size 432x288 with 16 Axes>"
            ]
          },
          "metadata": {
            "needs_background": "light"
          }
        }
      ]
    },
    {
      "cell_type": "markdown",
      "metadata": {
        "id": "1tI4mTke1H-d"
      },
      "source": [
        "The images above show the kernels in color map format (darker being closer to 0, and lighter being higher valued). "
      ]
    },
    {
      "cell_type": "markdown",
      "metadata": {
        "id": "2WE4gqBSIBjq"
      },
      "source": [
        "**Visualizing the Convolution and Feature Maps**"
      ]
    },
    {
      "cell_type": "markdown",
      "metadata": {
        "id": "NuFPWeR51Z2h"
      },
      "source": [
        "Next, we wanted to visualize how the application of these filters changed the incoming images."
      ]
    },
    {
      "cell_type": "code",
      "metadata": {
        "id": "0wIdjK2NIZH4"
      },
      "source": [
        "def visualize_convl(net, loader, index=0):\n",
        "    # Visualize Impact of Convolution\n",
        "    img = list(loader)[index]\n",
        "    inputs, labels = img\n",
        "    inputs = inputs.type(torch.FloatTensor)\n",
        "    inputs, labels = Variable(inputs).to(device), Variable(labels).to(device)\n",
        "\n",
        "    y = net.conv1(inputs)\n",
        "\n",
        "    inputs_display = inputs.cpu().detach().numpy()\n",
        "    y_display = y.cpu().detach().numpy()\n",
        "\n",
        "    # print(inputs_display)\n",
        "    plt.imshow(inputs_display[0][0], cmap='gray')\n",
        "    plt.title(\"Before Convolution\")\n",
        "    plt.show()\n",
        "\n",
        "    plt.figure(figsize=(10, 10))\n",
        "    for i in range(y.shape[1]):\n",
        "        plt.subplot(4, 4, i + 1)\n",
        "        plt.imshow(y_display[0][i], cmap='gray')\n",
        "        plt.axis('off')\n",
        "        plt.title(f\"Convolution of kernel {i}\")"
      ],
      "execution_count": null,
      "outputs": []
    },
    {
      "cell_type": "markdown",
      "metadata": {
        "id": "eVPvdaSZ1pU2"
      },
      "source": [
        "**Visualization of Provided Dataset Image**"
      ]
    },
    {
      "cell_type": "code",
      "metadata": {
        "colab": {
          "base_uri": "https://localhost:8080/",
          "height": 855
        },
        "id": "rbrTvSBKJ-7j",
        "outputId": "581f29f5-495c-4386-c97b-b43d2d6b6948"
      },
      "source": [
        "visualize_convl(net, train_loader)"
      ],
      "execution_count": null,
      "outputs": [
        {
          "output_type": "display_data",
          "data": {
            "image/png": "[encoded data removed]",
            "text/plain": [
              "<Figure size 432x288 with 1 Axes>"
            ]
          },
          "metadata": {
            "needs_background": "light"
          }
        },
        {
          "output_type": "display_data",
          "data": {
            "image/png": "[encoded data removed]",
            "text/plain": [
              "<Figure size 720x720 with 16 Axes>"
            ]
          },
          "metadata": {
            "needs_background": "light"
          }
        }
      ]
    },
    {
      "cell_type": "markdown",
      "metadata": {
        "id": "zbkbz2qc1y3B"
      },
      "source": [
        "**Visualization of Justin's Hand Against a White Background**"
      ]
    },
    {
      "cell_type": "code",
      "metadata": {
        "colab": {
          "base_uri": "https://localhost:8080/",
          "height": 855
        },
        "id": "mMniPtKOufAH",
        "outputId": "178fff8c-9a79-4f4e-d8bb-1c7f7cdc83e5"
      },
      "source": [
        "visualize_convl(net, pictures_loader, index=3)"
      ],
      "execution_count": null,
      "outputs": [
        {
          "output_type": "display_data",
          "data": {
            "image/png": "[encoded data removed]",
            "text/plain": [
              "<Figure size 432x288 with 1 Axes>"
            ]
          },
          "metadata": {
            "needs_background": "light"
          }
        },
        {
          "output_type": "display_data",
          "data": {
            "image/png": "[encoded data removed]",
            "text/plain": [
              "<Figure size 720x720 with 16 Axes>"
            ]
          },
          "metadata": {
            "needs_background": "light"
          }
        }
      ]
    },
    {
      "cell_type": "markdown",
      "metadata": {
        "id": "KP8SmROAt_7k"
      },
      "source": [
        "**Visualization of Justin's Hand Against a Window**"
      ]
    },
    {
      "cell_type": "code",
      "metadata": {
        "id": "PBfEMzgVqFnF",
        "colab": {
          "base_uri": "https://localhost:8080/",
          "height": 855
        },
        "outputId": "013db496-0a47-4c0e-a5f4-397abf982dbc"
      },
      "source": [
        "visualize_convl(net, pictures_loader)"
      ],
      "execution_count": null,
      "outputs": [
        {
          "output_type": "display_data",
          "data": {
            "image/png": "[encoded data removed]",
            "text/plain": [
              "<Figure size 432x288 with 1 Axes>"
            ]
          },
          "metadata": {
            "needs_background": "light"
          }
        },
        {
          "output_type": "display_data",
          "data": {
            "image/png": "[encoded data removed]",
            "text/plain": [
              "<Figure size 720x720 with 16 Axes>"
            ]
          },
          "metadata": {
            "needs_background": "light"
          }
        }
      ]
    },
    {
      "cell_type": "markdown",
      "metadata": {
        "id": "pgV3bUPpuffY"
      },
      "source": [
        "**Visualization of a Friend's Hand Against a White Background**"
      ]
    },
    {
      "cell_type": "code",
      "metadata": {
        "colab": {
          "base_uri": "https://localhost:8080/",
          "height": 855
        },
        "id": "cnElJ79UuFez",
        "outputId": "896c5fa5-7da3-42d7-ff80-07196b92fc5e"
      },
      "source": [
        "visualize_convl(net, pictures_loader, index=8)"
      ],
      "execution_count": null,
      "outputs": [
        {
          "output_type": "display_data",
          "data": {
            "image/png": "[encoded data removed]",
            "text/plain": [
              "<Figure size 432x288 with 1 Axes>"
            ]
          },
          "metadata": {
            "needs_background": "light"
          }
        },
        {
          "output_type": "display_data",
          "data": {
            "image/png": "[encoded data removed]",
            "text/plain": [
              "<Figure size 720x720 with 16 Axes>"
            ]
          },
          "metadata": {
            "needs_background": "light"
          }
        }
      ]
    },
    {
      "cell_type": "markdown",
      "metadata": {
        "id": "0gPdheYU2BZy"
      },
      "source": [
        "Looking at the results above, it's quite interesting to compare the difference between our self-taken images and the one originating from the dataset. Despite all images being 28x28 in resolution, the features showing the edges of the hand and fingers are much more prominent (darker) in the original dataset, while majority of the images we took, showed figures with either white edges or pixels fully blended with the rest of the hand. This could be a reason why the model failed to recognize our taken images."
      ]
    },
    {
      "cell_type": "markdown",
      "metadata": {
        "id": "dZ9B2xATvwqK"
      },
      "source": [
        "# Conclusion"
      ]
    },
    {
      "cell_type": "markdown",
      "metadata": {
        "id": "teaLW1Um24Cu"
      },
      "source": [
        "In this project, we were able to successfully take a dataset online, create and train a Convolutional Neural Network model, and have it classify hand-signed images with decent accuracy. We also explored the robustness of this model by seeing how the accuracy differed when provided hand sign images with differing backgrounds and skin tones. Lastly, we also did a bit more digging and were able to visualize how the convolution step worked in our feed forward loop of the convolutional neural network. "
      ]
    },
    {
      "cell_type": "markdown",
      "metadata": {
        "id": "J427LybowBA-"
      },
      "source": [
        "**Reflecting on Learning Goals**\n",
        "\n",
        "**Justin**\n",
        "\n",
        "Coming into this project, my learning goals were to gain more confidence creating ML algorithms through practicing implentation + programming, as well as to scope the project into something small so that we could quickly get a model running and expand upon it. Looking back, I feel comfortable saying I accomplished the second goal and feel that I didn't quite meet the first.\n",
        "\n",
        "The majority of the assignment was done through pair programming with Wesley taking the lead. This went quite well, and thanks to Wesley's quick programming capabilties and some input from myself here and there, we were able to get a model running pretty quickly. In the meantime, I also focused on writing out the report adjacent to the code.\n",
        "\n",
        "I had an opportunity to take the lead programming when it came to implementing visualizations. However, I had to forego this due to an unexpected surge of SCOPE work as well as I had become sick towards the end of the project. As a result, my main contributions to this project fell more towards writing the report, gathering new data for experiments, helping brainstorm what visualizations to run, and being a soundboard for Wesley if we were really blocked on code. \n",
        "\n",
        "Overall, despite not being able to struggle through the code and practice implementation directly, I still feel happy with the work I put into this project, and the learning that resulted from it.\n",
        "\n",
        "**Wesley**\n",
        "\n",
        "We did it! I’m pretty happy with the convolutional neural net we built using pytorch. We spent a significant time wrestling with the data to make the dataset fit into pytorch, and I think I learned a lot about the library this way. I think our biggest challenge was struggling to get the weights to converge. This was before we had a solid understanding of how the neural net trained. However, as we started tweaking different parameters, specifically batch number and learning rate, we learned a lot about how to optimize the training. One thing that we didn’t get a chance to explore was how different amounts of neurons in the hidden layer affects the model’s performance. If we had more time to wrestle with this project, one thing I would like to try is to plot the neural net performance in both accuracy and time as we swept through different sizes of the hidden layer.\n",
        "\n",
        "I’m really satisfied with this project’s outcome; while I wish we had a little bit more time to play with the model a bit, we accomplished quite a bit and learned a lot."
      ]
    }
  ]
}