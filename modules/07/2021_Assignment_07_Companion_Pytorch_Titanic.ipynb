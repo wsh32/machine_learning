{
  "nbformat": 4,
  "nbformat_minor": 0,
  "metadata": {
    "colab": {
      "name": "2021 Assignment 07 Companion - Pytorch Titanic",
      "provenance": [],
      "collapsed_sections": [
        "4i9WpTVdnXjS",
        "SPZY74FfqAT8"
      ],
      "include_colab_link": true
    },
    "kernelspec": {
      "name": "python3",
      "display_name": "Python 3"
    },
    "accelerator": "GPU"
  },
  "cells": [
    {
      "cell_type": "markdown",
      "metadata": {
        "id": "view-in-github",
        "colab_type": "text"
      },
      "source": [
        "<a href=\"https://colab.research.google.com/github/wsh32/machine_learning/blob/main/modules/07/2021_Assignment_07_Companion_Pytorch_Titanic.ipynb\" target=\"_parent\"><img src=\"https://colab.research.google.com/assets/colab-badge.svg\" alt=\"Open In Colab\"/></a>"
      ]
    },
    {
      "cell_type": "markdown",
      "metadata": {
        "id": "q-WMGMuojr6D"
      },
      "source": [
        "# Pytorch and Titanic\n",
        "\n",
        "Now that you've seen the very basics of how to use `pytorch`, we're going to see how to apply it to a machine learning problem.  Along the way we'll make connections back to the Titanic dataset and help solidify your understanding of the connection between the math we've been learning and the code we'll be writing using `pytorch`.\n",
        "\n",
        "To get started, let's load our trusty Titanic dataset."
      ]
    },
    {
      "cell_type": "code",
      "metadata": {
        "id": "GDXQfYGol5kt",
        "outputId": "e62502d8-3ea9-4afe-8050-1f5c22da7e2d",
        "colab": {
          "base_uri": "https://localhost:8080/",
          "height": 419
        }
      },
      "source": [
        "import gdown\n",
        "import numpy as np\n",
        "import pandas as pd\n",
        "\n",
        "url = 'https://raw.githubusercontent.com/olincollege/MLfall2021/master/Module%201/06/titanic_train.csv'\n",
        "df = pd.read_csv(url) \n",
        "df"
      ],
      "execution_count": 2,
      "outputs": [
        {
          "output_type": "execute_result",
          "data": {
            "text/html": [
              "<div>\n",
              "<style scoped>\n",
              "    .dataframe tbody tr th:only-of-type {\n",
              "        vertical-align: middle;\n",
              "    }\n",
              "\n",
              "    .dataframe tbody tr th {\n",
              "        vertical-align: top;\n",
              "    }\n",
              "\n",
              "    .dataframe thead th {\n",
              "        text-align: right;\n",
              "    }\n",
              "</style>\n",
              "<table border=\"1\" class=\"dataframe\">\n",
              "  <thead>\n",
              "    <tr style=\"text-align: right;\">\n",
              "      <th></th>\n",
              "      <th>PassengerId</th>\n",
              "      <th>Survived</th>\n",
              "      <th>Pclass</th>\n",
              "      <th>Name</th>\n",
              "      <th>Sex</th>\n",
              "      <th>Age</th>\n",
              "      <th>SibSp</th>\n",
              "      <th>Parch</th>\n",
              "      <th>Ticket</th>\n",
              "      <th>Fare</th>\n",
              "      <th>Cabin</th>\n",
              "      <th>Embarked</th>\n",
              "    </tr>\n",
              "  </thead>\n",
              "  <tbody>\n",
              "    <tr>\n",
              "      <th>0</th>\n",
              "      <td>1</td>\n",
              "      <td>0</td>\n",
              "      <td>3</td>\n",
              "      <td>Braund, Mr. Owen Harris</td>\n",
              "      <td>male</td>\n",
              "      <td>22.0</td>\n",
              "      <td>1</td>\n",
              "      <td>0</td>\n",
              "      <td>A/5 21171</td>\n",
              "      <td>7.2500</td>\n",
              "      <td>NaN</td>\n",
              "      <td>S</td>\n",
              "    </tr>\n",
              "    <tr>\n",
              "      <th>1</th>\n",
              "      <td>2</td>\n",
              "      <td>1</td>\n",
              "      <td>1</td>\n",
              "      <td>Cumings, Mrs. John Bradley (Florence Briggs Th...</td>\n",
              "      <td>female</td>\n",
              "      <td>38.0</td>\n",
              "      <td>1</td>\n",
              "      <td>0</td>\n",
              "      <td>PC 17599</td>\n",
              "      <td>71.2833</td>\n",
              "      <td>C85</td>\n",
              "      <td>C</td>\n",
              "    </tr>\n",
              "    <tr>\n",
              "      <th>2</th>\n",
              "      <td>3</td>\n",
              "      <td>1</td>\n",
              "      <td>3</td>\n",
              "      <td>Heikkinen, Miss. Laina</td>\n",
              "      <td>female</td>\n",
              "      <td>26.0</td>\n",
              "      <td>0</td>\n",
              "      <td>0</td>\n",
              "      <td>STON/O2. 3101282</td>\n",
              "      <td>7.9250</td>\n",
              "      <td>NaN</td>\n",
              "      <td>S</td>\n",
              "    </tr>\n",
              "    <tr>\n",
              "      <th>3</th>\n",
              "      <td>4</td>\n",
              "      <td>1</td>\n",
              "      <td>1</td>\n",
              "      <td>Futrelle, Mrs. Jacques Heath (Lily May Peel)</td>\n",
              "      <td>female</td>\n",
              "      <td>35.0</td>\n",
              "      <td>1</td>\n",
              "      <td>0</td>\n",
              "      <td>113803</td>\n",
              "      <td>53.1000</td>\n",
              "      <td>C123</td>\n",
              "      <td>S</td>\n",
              "    </tr>\n",
              "    <tr>\n",
              "      <th>4</th>\n",
              "      <td>5</td>\n",
              "      <td>0</td>\n",
              "      <td>3</td>\n",
              "      <td>Allen, Mr. William Henry</td>\n",
              "      <td>male</td>\n",
              "      <td>35.0</td>\n",
              "      <td>0</td>\n",
              "      <td>0</td>\n",
              "      <td>373450</td>\n",
              "      <td>8.0500</td>\n",
              "      <td>NaN</td>\n",
              "      <td>S</td>\n",
              "    </tr>\n",
              "    <tr>\n",
              "      <th>...</th>\n",
              "      <td>...</td>\n",
              "      <td>...</td>\n",
              "      <td>...</td>\n",
              "      <td>...</td>\n",
              "      <td>...</td>\n",
              "      <td>...</td>\n",
              "      <td>...</td>\n",
              "      <td>...</td>\n",
              "      <td>...</td>\n",
              "      <td>...</td>\n",
              "      <td>...</td>\n",
              "      <td>...</td>\n",
              "    </tr>\n",
              "    <tr>\n",
              "      <th>886</th>\n",
              "      <td>887</td>\n",
              "      <td>0</td>\n",
              "      <td>2</td>\n",
              "      <td>Montvila, Rev. Juozas</td>\n",
              "      <td>male</td>\n",
              "      <td>27.0</td>\n",
              "      <td>0</td>\n",
              "      <td>0</td>\n",
              "      <td>211536</td>\n",
              "      <td>13.0000</td>\n",
              "      <td>NaN</td>\n",
              "      <td>S</td>\n",
              "    </tr>\n",
              "    <tr>\n",
              "      <th>887</th>\n",
              "      <td>888</td>\n",
              "      <td>1</td>\n",
              "      <td>1</td>\n",
              "      <td>Graham, Miss. Margaret Edith</td>\n",
              "      <td>female</td>\n",
              "      <td>19.0</td>\n",
              "      <td>0</td>\n",
              "      <td>0</td>\n",
              "      <td>112053</td>\n",
              "      <td>30.0000</td>\n",
              "      <td>B42</td>\n",
              "      <td>S</td>\n",
              "    </tr>\n",
              "    <tr>\n",
              "      <th>888</th>\n",
              "      <td>889</td>\n",
              "      <td>0</td>\n",
              "      <td>3</td>\n",
              "      <td>Johnston, Miss. Catherine Helen \"Carrie\"</td>\n",
              "      <td>female</td>\n",
              "      <td>NaN</td>\n",
              "      <td>1</td>\n",
              "      <td>2</td>\n",
              "      <td>W./C. 6607</td>\n",
              "      <td>23.4500</td>\n",
              "      <td>NaN</td>\n",
              "      <td>S</td>\n",
              "    </tr>\n",
              "    <tr>\n",
              "      <th>889</th>\n",
              "      <td>890</td>\n",
              "      <td>1</td>\n",
              "      <td>1</td>\n",
              "      <td>Behr, Mr. Karl Howell</td>\n",
              "      <td>male</td>\n",
              "      <td>26.0</td>\n",
              "      <td>0</td>\n",
              "      <td>0</td>\n",
              "      <td>111369</td>\n",
              "      <td>30.0000</td>\n",
              "      <td>C148</td>\n",
              "      <td>C</td>\n",
              "    </tr>\n",
              "    <tr>\n",
              "      <th>890</th>\n",
              "      <td>891</td>\n",
              "      <td>0</td>\n",
              "      <td>3</td>\n",
              "      <td>Dooley, Mr. Patrick</td>\n",
              "      <td>male</td>\n",
              "      <td>32.0</td>\n",
              "      <td>0</td>\n",
              "      <td>0</td>\n",
              "      <td>370376</td>\n",
              "      <td>7.7500</td>\n",
              "      <td>NaN</td>\n",
              "      <td>Q</td>\n",
              "    </tr>\n",
              "  </tbody>\n",
              "</table>\n",
              "<p>891 rows × 12 columns</p>\n",
              "</div>"
            ],
            "text/plain": [
              "     PassengerId  Survived  Pclass  ...     Fare Cabin  Embarked\n",
              "0              1         0       3  ...   7.2500   NaN         S\n",
              "1              2         1       1  ...  71.2833   C85         C\n",
              "2              3         1       3  ...   7.9250   NaN         S\n",
              "3              4         1       1  ...  53.1000  C123         S\n",
              "4              5         0       3  ...   8.0500   NaN         S\n",
              "..           ...       ...     ...  ...      ...   ...       ...\n",
              "886          887         0       2  ...  13.0000   NaN         S\n",
              "887          888         1       1  ...  30.0000   B42         S\n",
              "888          889         0       3  ...  23.4500   NaN         S\n",
              "889          890         1       1  ...  30.0000  C148         C\n",
              "890          891         0       3  ...   7.7500   NaN         Q\n",
              "\n",
              "[891 rows x 12 columns]"
            ]
          },
          "metadata": {},
          "execution_count": 2
        }
      ]
    },
    {
      "cell_type": "markdown",
      "metadata": {
        "id": "dlzr7ee_kZAn"
      },
      "source": [
        "In the Assignment 6 companion notebook we fit two models:\n",
        "1.  We used the `Age` and `Sex` columns along with a synthetic feature called `is young male` as inputs to a logistic regression model in order to predict whether someone survived.\n",
        "2.  We used just the `Age` and `Sex` as inputs to a multilayer perceptron model in order to predict whether someone survived.\n",
        "\n",
        "In this notebook we'll be implementing both of these models in `pytorch`.  To get started, let's perform the following data processing / cleaning steps.\n",
        "1.  Get rid of any passengers where we don't know their age (don't do this in a real machine learning application as it will skew your results).\n",
        "2.  Convert the `Sex` column to a dummy variable called `male` that will take on value 1 if the passenger is male and 0 otherwise.\n",
        "3.  Create the `is young male` column that will be 1 for males under the age of 5 and 0 for everyone else."
      ]
    },
    {
      "cell_type": "code",
      "metadata": {
        "id": "QmJqj_5omDmF",
        "outputId": "895d08b1-48a5-400f-c71d-60f231ab3b9d",
        "colab": {
          "base_uri": "https://localhost:8080/",
          "height": 419
        }
      },
      "source": [
        "# get rid of null values for age since this is just an illustrative example.\n",
        "# this would not be a good thing to do if we were trying to evalutate the \n",
        "# performance of a model.\n",
        "df_filtered = df[['Age', 'Sex', 'Survived']].dropna()\n",
        "is_young_male = ((df_filtered['Sex'] == 'male') & (df_filtered['Age'] < 5)).astype(int)\n",
        "is_young_male.name = 'is_young_male'\n",
        "experiment_1_data = pd.concat((pd.get_dummies(df_filtered['Sex'], drop_first=True), df_filtered['Age'], is_young_male), axis=1)\n",
        "experiment_1_outputs = df_filtered['Survived']\n",
        "experiment_1_data"
      ],
      "execution_count": 4,
      "outputs": [
        {
          "output_type": "execute_result",
          "data": {
            "text/html": [
              "<div>\n",
              "<style scoped>\n",
              "    .dataframe tbody tr th:only-of-type {\n",
              "        vertical-align: middle;\n",
              "    }\n",
              "\n",
              "    .dataframe tbody tr th {\n",
              "        vertical-align: top;\n",
              "    }\n",
              "\n",
              "    .dataframe thead th {\n",
              "        text-align: right;\n",
              "    }\n",
              "</style>\n",
              "<table border=\"1\" class=\"dataframe\">\n",
              "  <thead>\n",
              "    <tr style=\"text-align: right;\">\n",
              "      <th></th>\n",
              "      <th>male</th>\n",
              "      <th>Age</th>\n",
              "      <th>is_young_male</th>\n",
              "    </tr>\n",
              "  </thead>\n",
              "  <tbody>\n",
              "    <tr>\n",
              "      <th>0</th>\n",
              "      <td>1</td>\n",
              "      <td>22.0</td>\n",
              "      <td>0</td>\n",
              "    </tr>\n",
              "    <tr>\n",
              "      <th>1</th>\n",
              "      <td>0</td>\n",
              "      <td>38.0</td>\n",
              "      <td>0</td>\n",
              "    </tr>\n",
              "    <tr>\n",
              "      <th>2</th>\n",
              "      <td>0</td>\n",
              "      <td>26.0</td>\n",
              "      <td>0</td>\n",
              "    </tr>\n",
              "    <tr>\n",
              "      <th>3</th>\n",
              "      <td>0</td>\n",
              "      <td>35.0</td>\n",
              "      <td>0</td>\n",
              "    </tr>\n",
              "    <tr>\n",
              "      <th>4</th>\n",
              "      <td>1</td>\n",
              "      <td>35.0</td>\n",
              "      <td>0</td>\n",
              "    </tr>\n",
              "    <tr>\n",
              "      <th>...</th>\n",
              "      <td>...</td>\n",
              "      <td>...</td>\n",
              "      <td>...</td>\n",
              "    </tr>\n",
              "    <tr>\n",
              "      <th>885</th>\n",
              "      <td>0</td>\n",
              "      <td>39.0</td>\n",
              "      <td>0</td>\n",
              "    </tr>\n",
              "    <tr>\n",
              "      <th>886</th>\n",
              "      <td>1</td>\n",
              "      <td>27.0</td>\n",
              "      <td>0</td>\n",
              "    </tr>\n",
              "    <tr>\n",
              "      <th>887</th>\n",
              "      <td>0</td>\n",
              "      <td>19.0</td>\n",
              "      <td>0</td>\n",
              "    </tr>\n",
              "    <tr>\n",
              "      <th>889</th>\n",
              "      <td>1</td>\n",
              "      <td>26.0</td>\n",
              "      <td>0</td>\n",
              "    </tr>\n",
              "    <tr>\n",
              "      <th>890</th>\n",
              "      <td>1</td>\n",
              "      <td>32.0</td>\n",
              "      <td>0</td>\n",
              "    </tr>\n",
              "  </tbody>\n",
              "</table>\n",
              "<p>714 rows × 3 columns</p>\n",
              "</div>"
            ],
            "text/plain": [
              "     male   Age  is_young_male\n",
              "0       1  22.0              0\n",
              "1       0  38.0              0\n",
              "2       0  26.0              0\n",
              "3       0  35.0              0\n",
              "4       1  35.0              0\n",
              "..    ...   ...            ...\n",
              "885     0  39.0              0\n",
              "886     1  27.0              0\n",
              "887     0  19.0              0\n",
              "889     1  26.0              0\n",
              "890     1  32.0              0\n",
              "\n",
              "[714 rows x 3 columns]"
            ]
          },
          "metadata": {},
          "execution_count": 4
        }
      ]
    },
    {
      "cell_type": "markdown",
      "metadata": {
        "id": "BRCuTGuklo8i"
      },
      "source": [
        "Next, we'll go ahead and build our logistic regression model just as we did in the assignment 6 companion notebook.  The only small twist we will introduce is turning off the ridge term of the model so that it will make comparing the results from this analysis to what we do in pytorch easier."
      ]
    },
    {
      "cell_type": "code",
      "metadata": {
        "id": "OPcsVBFeloVB",
        "outputId": "fb7ed08d-1f2f-454e-d6c0-acc983e5387b",
        "colab": {
          "base_uri": "https://localhost:8080/"
        }
      },
      "source": [
        "from sklearn.linear_model import LogisticRegression\n",
        "\n",
        "model = LogisticRegression(solver='lbfgs', penalty='none') # setting solve silences annoying warning\n",
        "model.fit(experiment_1_data, experiment_1_outputs)\n",
        "print(\"coefs\", model.coef_)\n",
        "print(\"intercept\", model.intercept_)"
      ],
      "execution_count": 5,
      "outputs": [
        {
          "output_type": "stream",
          "name": "stdout",
          "text": [
            "coefs [[-2.67342472  0.00808732  2.38307187]]\n",
            "intercept [0.9018627]\n"
          ]
        }
      ]
    },
    {
      "cell_type": "markdown",
      "metadata": {
        "id": "mOUL_e0Ql-Ve"
      },
      "source": [
        "### Notebook Exercise 1 (10 minutes)\n",
        "\n",
        "This is a bit of review.  Provide an interpretation for the coefficients learned by the logistic regression model (e.g., what do they mean for the prediction of whether a passenger would survive)."
      ]
    },
    {
      "cell_type": "markdown",
      "metadata": {
        "id": "4i9WpTVdnXjS"
      },
      "source": [
        "#### *Expand for Solution*"
      ]
    },
    {
      "cell_type": "markdown",
      "metadata": {
        "id": "4yyP0Nr5nnMK"
      },
      "source": [
        "***Solution***\n",
        "\n",
        "The negative coefficient for the first feature means that male passengers ($x_1=1$) were less likely to survive than female passenngers ($x_1=0$).  The slightly positive coefficient for the second feature (age) means that older passengers were more likely to survive (the effect is not strong though).  The large and positive weight for `is young male` means that those passengers had a much higher survival rate in comparison with older males."
      ]
    },
    {
      "cell_type": "markdown",
      "metadata": {
        "id": "nHE5P--nmhN8"
      },
      "source": [
        "## Reimplementation in Pytorch\n",
        "\n",
        "Next, we'll be using `pytorch` to implement our own version of logistic regression!  When creating a neural network model (remember, we can think of logistic regression as a perceptron with 2 layers, an input and an output), you create a class that inherits from `nn.Module`.  We'll give you an implementation of logistic regression and then give a detailed breakdown of the key lines."
      ]
    },
    {
      "cell_type": "code",
      "metadata": {
        "id": "eBY7RqSWmT_i"
      },
      "source": [
        "from torch import nn\n",
        "import torch\n",
        "from torch.autograd import Variable\n",
        "\n",
        "class LogisticRegressionPytorch(nn.Module):\n",
        "    def __init__(self):\n",
        "        super(LogisticRegressionPytorch, self).__init__()\n",
        "        self.linear = nn.Linear(3,1)\n",
        "\n",
        "    def forward(self, X):\n",
        "        \"\"\" Propagate data through the network.\n",
        "\n",
        "            This model first applies the linear layer and then a sigmoid\n",
        "        \"\"\"\n",
        "        X = self.linear(X)\n",
        "        return torch.sigmoid(X)"
      ],
      "execution_count": 6,
      "outputs": []
    },
    {
      "cell_type": "markdown",
      "metadata": {
        "id": "GQu4NKeOoC6Q"
      },
      "source": [
        "Here is a breakdown of some of the key lines in this implementation.\n",
        "\n",
        "Inherit from the super class `nn.Module`:\n",
        "```python\n",
        "class LogisticRegressionPytorch(nn.Module):\n",
        "```\n",
        "\n",
        "Since we're inheriting from `nn.Module`, we need to make sure to call the `__init__` method of `nn.Module` when initializating our class.\n",
        "```python\n",
        "super(LogisticRegressionPytorch, self).__init__()\n",
        "```\n",
        "\n",
        "The linear layer will store the weight vector of our model.  The $3$ arises from the fact that our model will have 3 inputs (age, male, and is young male).  It is very important that you store your layers as attributes of your class.  This is how `pytorch` knows about them and can optimize them.  If you need to have a list of layers, look into `nn.ModuleList`.\n",
        "\n",
        "```python\n",
        "self.linear = nn.Linear(3,1)\n",
        "```\n",
        "\n",
        "The `forward` function is the heart of the model.  It runs input data through the network and returns the output.  Writing such functions usually amounts to passing data between the various layers that were created in the `__init__` method.  The syntax for this is a little funny.  For instance, in the code below, `self.linear(X)` implicitly calls the `forward` function of the `nn.Linear` class.  Yes, we find this kind of weird, but that's how it's done in `pytorch`.  This is really just a syntactic quirk rather than anything substantive that you need to worry about.  The last step of the function involves applying the `sigmoid` and returning the result.\n",
        "\n",
        "Next, we'll show how to pass some data into the model.\n",
        "\n",
        "```python\n",
        "def forward(self, X):\n",
        "    \"\"\" Propagate data through the network.\n",
        "\n",
        "        This model first applies the linear layer and then a sigmoid\n",
        "    \"\"\"\n",
        "    X = self.linear(X)\n",
        "    return torch.sigmoid(X)\n",
        "```"
      ]
    },
    {
      "cell_type": "code",
      "metadata": {
        "id": "nOfiM3_wpvvI",
        "outputId": "afb5f374-a131-427b-d9a5-e71888a11e49",
        "colab": {
          "base_uri": "https://localhost:8080/"
        }
      },
      "source": [
        "# sample_data represents a male passenger who is 10 years old\n",
        "sample_data = Variable(torch.FloatTensor([1.0, 10.0, 0.0]))\n",
        "model_pytorch = LogisticRegressionPytorch()\n",
        "model_pytorch(sample_data)"
      ],
      "execution_count": 7,
      "outputs": [
        {
          "output_type": "execute_result",
          "data": {
            "text/plain": [
              "tensor([0.1563], grad_fn=<SigmoidBackward>)"
            ]
          },
          "metadata": {},
          "execution_count": 7
        }
      ]
    },
    {
      "cell_type": "markdown",
      "metadata": {
        "id": "80wRe1EvqNcG"
      },
      "source": [
        "The code we computed the probability that the specific passenger would survive.  It is very important to realize that right now the model *has not been trained*.  This means that we don't expect the output of the model to make any sense (although it might just by chance).  If you rerun the code repeatedly, you'll get different results due to the fact that the weights are initialized randomly.\n",
        "\n",
        "Next, we're going to actually train the network!  This is where things get interesting.  Run the code and either look through the code on your own or look below for a line-by-line breakdown."
      ]
    },
    {
      "cell_type": "code",
      "metadata": {
        "id": "TZB9XkoLpoO7",
        "outputId": "8dc3c886-c1e9-462d-ec53-5099826bc501",
        "colab": {
          "base_uri": "https://localhost:8080/",
          "height": 381
        }
      },
      "source": [
        "model_pytorch = LogisticRegressionPytorch()\n",
        "model_pytorch.train()\n",
        "\n",
        "#optimizer = torch.optim.SGD(model_pytorch.parameters(), lr=0.02)\n",
        "optimizer = torch.optim.Adam(model_pytorch.parameters())\n",
        "criterion = torch.nn.BCELoss()\n",
        "grad_magnitudes = []\n",
        "\n",
        "X_data = Variable(torch.Tensor(np.array(experiment_1_data)))\n",
        "y_data = Variable(torch.Tensor(np.array(experiment_1_outputs))).reshape([714, 1])\n",
        "for epoch in range(20000):\n",
        "    optimizer.zero_grad()\n",
        "    # Forward pass\n",
        "    y_pred = model_pytorch(X_data)\n",
        "    # Compute Loss\n",
        "    loss = criterion(y_pred, y_data)\n",
        "    # Backward pass\n",
        "    loss.backward()\n",
        "    for name, param in model_pytorch.named_parameters():\n",
        "        if name == 'linear.weight':\n",
        "            grad_magnitudes.append(np.abs(param.grad.numpy()).mean())\n",
        "\n",
        "    if epoch % 10000 == 0:\n",
        "        print(\"epoch\", epoch)\n",
        "        for name, param in model_pytorch.named_parameters():\n",
        "            print(name, \"value\", param.data, \"gradient\", param.grad)\n",
        "    optimizer.step()\n",
        "\n",
        "import matplotlib.pyplot as plt\n",
        "%matplotlib inline\n",
        "plt.plot(grad_magnitudes)\n",
        "plt.xlabel('epoch')\n",
        "plt.ylabel('average magnitude of weight gradient')\n",
        "plt.yscale('log')\n",
        "plt.show()"
      ],
      "execution_count": 25,
      "outputs": [
        {
          "output_type": "stream",
          "name": "stdout",
          "text": [
            "epoch 0\n",
            "linear.weight value tensor([[-0.0352, -0.4036,  0.1243]]) gradient tensor([[-1.1719e-01, -1.1351e+01, -1.0049e-02]])\n",
            "linear.bias value tensor([0.0589]) gradient tensor([-0.3847])\n",
            "epoch 10000\n",
            "linear.weight value tensor([[-2.6734,  0.0081,  2.3831]]) gradient tensor([[ 2.5542e-07, -2.9802e-08, -3.2014e-09]])\n",
            "linear.bias value tensor([0.9019]) gradient tensor([-4.1677e-08])\n"
          ]
        },
        {
          "output_type": "display_data",
          "data": {
            "image/png": "[encoded data removed]",
            "text/plain": [
              "<Figure size 432x288 with 1 Axes>"
            ]
          },
          "metadata": {
            "needs_background": "light"
          }
        }
      ]
    },
    {
      "cell_type": "markdown",
      "metadata": {
        "id": "FzMJvRPosfXk"
      },
      "source": [
        "*Code breakdown*\n",
        "\n",
        "Put the model into training mode (this only affects certain models that behave differently during training and testing).  Even though it doesn't affect our logistic regression model, calling the `.train` function is a good habit to get into.\n",
        "\n",
        "```python\n",
        "model_pytorch.train()\n",
        "```\n",
        "\n",
        "Create an optimizer that will tune the parameters of the network.  Here we are using an algorithm called *stochastic gradient descent*.  It's a very popular choice for an optimizer.  Similarly to gradient descent it optimizes a function by stepping down the gradient (step size is given by learning rate or `lr`).  Where it differs from normal gradient descent is that it doesn't necessarily use all of the data to compute the gradient.  If you have a big dataset, it might only use a small number of data points, compute gradient over those, and then step down that estimate of the gradient.  The collection of datapoints used for estimating the gradient is called a *mini batch*.  In this example we are using the entire dataset each time, so we are really doing normal gradient descent.\n",
        "\n",
        "```python\n",
        "optimizer = torch.optim.SGD(model_pytorch.parameters(), lr=0.01)\n",
        "```\n",
        "\n",
        "The criterion defines the loss function we are minimizing.  When the training outputs are binary, the `BCELoss` function is equivalent to the log loss that we have been using in this course.\n",
        "\n",
        "```python\n",
        "criterion = torch.nn.BCELoss()\n",
        "```\n",
        "\n",
        "In order to operate on data in pytorch, you have to convert any matrix or vector data into a pytorch variable.  This should be familiar based on the tutorial you went through earlier.\n",
        "\n",
        "```python\n",
        "X_data = Variable(torch.Tensor(np.array(experiment_1_data)))\n",
        "y_data = Variable(torch.Tensor(np.array(experiment_1_outputs)))\n",
        "```\n",
        "\n",
        "An *epoch* in neural network training is a single pass through the data.  In this case we are taking a single gradient step on the whole dataset, so the number of epochs is the same as the number of gradient steps.\n",
        "```python\n",
        "for epoch in range(200):\n",
        "```\n",
        "\n",
        "This tells the optimizer to throw away any gradients it has accumulated from previous data (do not forget to call this!!!).\n",
        "\n",
        "```python\n",
        "optimizer.zero_grad()\n",
        "```\n",
        "\n",
        "Apply the forward model to get predictions.\n",
        "\n",
        "```python\n",
        "y_pred = model_pytorch(X_data)\n",
        "```\n",
        "\n",
        "Calculate the loss of the model by comparing its predictions with the actual outputs.\n",
        "\n",
        "```python\n",
        "loss = criterion(y_pred, y_data)\n",
        "```\n",
        "\n",
        "Use backpropagation to compute the gradient of all of the model parameters with respect to the loss.\n",
        "\n",
        "```python\n",
        "loss.backward()\n",
        "```\n",
        "\n",
        "Calculate the gradient magnitudes so we can make a plot after training.\n",
        "```python\n",
        "for name, param in model_pytorch.named_parameters():\n",
        "    if name == 'linear.weight':\n",
        "        grad_magnitudes.append(np.abs(param.grad.numpy()).mean())\n",
        "```\n",
        "\n",
        "Print out the values of the parameters and the gradient of the parameters with respect to the loss every 50 epochs.\n",
        "\n",
        "```python\n",
        "if epoch % 50 == 0:\n",
        "    print(\"epoch\", epoch)\n",
        "    for name, param in model_pytorch.named_parameters():\n",
        "        print(name, \"value\", param.data, \"gradient\", param.grad)\n",
        "```\n",
        "\n",
        "Perform the gradient step.\n",
        "```python\n",
        "optimizer.step()\n",
        "```"
      ]
    },
    {
      "cell_type": "markdown",
      "metadata": {
        "id": "RMWSRWPCwExp"
      },
      "source": [
        "### Notebook Exercise 2 (30 minutes)\n",
        "\n",
        "(a) Explain the output you see when you run the previous code cell.  How are the weights changing over time?  How is the gradient changing over time?  Is the algorithm close to converging (i.e., computing the optimal solution)?  How would you know if it has converged?\n",
        "\n",
        "(b) Increase the number of epochs until you get convergence (you may want to make it so the gradient prints out less by changing the line `if epoch % 100 == 0` to `if epoch % 1000 == 0`).  Roughly how many did it take?\n",
        "\n",
        "(c) Tune the learning rate to some other values.  How does this change the algorithm's behavior?\n",
        "\n",
        "(d) Change the optimizer to the ADAM optimizer by swapping out the previous optimizer with this new line of code.\n",
        "\n",
        "```python\n",
        "optimizer = torch.optim.Adam(model_pytorch.parameters())\n",
        "```\n",
        "\n",
        "Roughly many epochs does it take to reach convergence now?\n"
      ]
    },
    {
      "cell_type": "markdown",
      "metadata": {
        "id": "SPZY74FfqAT8"
      },
      "source": [
        "#### *Expand for Solution*"
      ]
    },
    {
      "cell_type": "markdown",
      "metadata": {
        "id": "zLv51G9VqD9v"
      },
      "source": [
        "***Solution***\n",
        "\n",
        "(a) (this might vary based on the random initialization of the weights in the network).  In this run the weights slowly adjusted to the values computed by the sklearn model.  The size of the gradient remained largely constant over time (as seen both in the output and in the plot).  This indicates that the algorithm has not converged yet.  If the gradient magnitude was close to 0, that would indicate convergence.\n",
        "\n",
        "(b) It took about 150,000 epochs to reach convergence!\n",
        "\n",
        "(c) Setting it too high causes divergence of the algorithm.  Setting it too low causes slow convergence.\n",
        "\n",
        "(d) It seems to takea bout 10,000 epochs to converge (that's a huge speedup!)"
      ]
    },
    {
      "cell_type": "markdown",
      "metadata": {
        "id": "LSCOWv0ax4Lc"
      },
      "source": [
        "## Multilayer Perceptron\n",
        "\n",
        "Now that we've shown you how to implement the logistic regression model, we want you to implement the MLP model from the previous companion notebook.  Remember, the MLP had 2 input features (we didn't use `is young male` as an input) and 2 hidden units.  We'll provide you with the skeleton of the code as well as some code to generate the visualization from the previous notebook."
      ]
    },
    {
      "cell_type": "code",
      "metadata": {
        "id": "c72OHAbKqqgS"
      },
      "source": [
        "# start from this and modify it\n",
        "class TitanicMLP(nn.Module):\n",
        "    def __init__(self):\n",
        "        super(TitanicMLP, self).__init__()\n",
        "        self.input_layer = nn.Linear(2,2)\n",
        "        self.hidden_layer = nn.Linear(2,1)\n",
        "\n",
        "    def forward(self, X):\n",
        "        \"\"\" Propagate data through the network.\n",
        "\n",
        "            This model first applies the linear layer and then a sigmoid\n",
        "        \"\"\"\n",
        "        S2 = self.input_layer(X)\n",
        "        X2 = torch.sigmoid(S2)\n",
        "        S3 = self.hidden_layer(X2)\n",
        "        return torch.sigmoid(S3)"
      ],
      "execution_count": 30,
      "outputs": []
    },
    {
      "cell_type": "markdown",
      "metadata": {
        "id": "VRordq4Vq1VU"
      },
      "source": [
        "### Notebook Exercise 3 (20 minutes + 20 minutes of optional work)\n",
        "\n",
        "Non-optional: modify the starter code listed above (where it says `class LogisticRegressionPytorch`) to create be a class called TitanicMLP that has 2 input units and 2 hidden units.  Train your network on the Titanic dataset (we recommend using the Adam optimizer you learned about in the last problem).  We have defined a function called `visualize_model_probs` for visualizing the probability plot that we saw in the last companion notebook (this code should be run after the model is done training).\n",
        "\n",
        "*Optional:* visualize the hidden unit representations in the network (similar to what we did in the companion notebook last time).  Hint: you can define additional functions (rather than just `forward` to compute the hidden units in the network)."
      ]
    },
    {
      "cell_type": "code",
      "metadata": {
        "id": "0OSBbI-tr_bC"
      },
      "source": [
        "def visualize_model_probs(model):\n",
        "    xx, yy = np.mgrid[-.1:1.1:.01, 0:85:.1]\n",
        "    grid = np.c_[xx.ravel(), yy.ravel()]\n",
        "    probs = model(Variable(torch.Tensor(grid))).detach().numpy().reshape(xx.shape)\n",
        "\n",
        "    f, ax = plt.subplots(figsize=(8, 6))\n",
        "    contour = ax.contourf(xx, yy, probs, 25, cmap=\"RdBu\",\n",
        "                        vmin=0, vmax=1)\n",
        "    ax_c = f.colorbar(contour)\n",
        "    ax_c.set_label(\"$P(survived)$\")\n",
        "    ax_c.set_ticks([0, .25, .5, .75, 1])\n",
        "\n",
        "    ax.scatter(experiment_1_data['male'], experiment_1_data['Age'], c=experiment_1_outputs, s=50,\n",
        "            cmap=\"RdBu\", vmin=-.2, vmax=1.2,\n",
        "            edgecolor=\"white\", linewidth=1)\n",
        "\n",
        "    ax.set(xlim=(-.1, 1.1),\n",
        "        ylim=(0, 85),\n",
        "        xlabel=\"is male\", ylabel=\"age (years)\")\n",
        "    plt.show()"
      ],
      "execution_count": 28,
      "outputs": []
    },
    {
      "cell_type": "markdown",
      "metadata": {
        "id": "qUUvrdbSrnJj"
      },
      "source": [
        "#### *Expand for Solution*"
      ]
    },
    {
      "cell_type": "code",
      "metadata": {
        "id": "KRlnM3duq5Vr"
      },
      "source": [
        "class TitanicMLP(nn.Module):\n",
        "    def __init__(self):\n",
        "        super(TitanicMLP, self).__init__()\n",
        "        self.linear_1 = nn.Linear(2,2)\n",
        "        self.linear_2 = nn.Linear(2,1)\n",
        "\n",
        "    def forward(self, X):\n",
        "        \"\"\" Propagate data through the network.\n",
        "\n",
        "            This model first applies the linear layer, a sigmoid, a linear\n",
        "            layer, and finally a sigmoid\n",
        "        \"\"\"\n",
        "        X = self.linear_1(X)\n",
        "        X = torch.sigmoid(X)\n",
        "        X = self.linear_2(X)\n",
        "        return torch.sigmoid(X)\n",
        "    # Note: the hidden function is only needed if you want to visualize hidden\n",
        "    # layers.  If you didn't do that part, you wouldn't have this in your\n",
        "    # solution.\n",
        "    def hidden(self, X):\n",
        "        \"\"\" Propagate data to the hidden layer \"\"\"\n",
        "        X = self.linear_1(X)\n",
        "        return torch.sigmoid(X)"
      ],
      "execution_count": 31,
      "outputs": []
    },
    {
      "cell_type": "code",
      "metadata": {
        "id": "Vzl2zcUdr39P",
        "outputId": "8ac4e12c-abfd-427c-df1b-fe457528e2cb",
        "colab": {
          "base_uri": "https://localhost:8080/",
          "height": 1000
        }
      },
      "source": [
        "mlp_pytorch = TitanicMLP()\n",
        "mlp_pytorch.train()\n",
        "optimizer = torch.optim.Adam(mlp_pytorch.parameters())\n",
        "criterion = torch.nn.BCELoss()\n",
        "grad_magnitudes = []\n",
        "\n",
        "X_data = Variable(torch.Tensor(np.array(experiment_1_data.drop('is_young_male',axis=1))))\n",
        "y_data = Variable(torch.Tensor(np.array(experiment_1_outputs))).reshape([714, 1])\n",
        "for epoch in range(20000):\n",
        "    optimizer.zero_grad()\n",
        "    # Forward pass\n",
        "    y_pred = mlp_pytorch(X_data)\n",
        "    # Compute Loss\n",
        "    loss = criterion(y_pred, y_data)\n",
        "    # Backward pass\n",
        "    loss.backward()\n",
        "    for name, param in mlp_pytorch.named_parameters():\n",
        "        if name == 'linear_1.weight':\n",
        "            grad_magnitudes.append(np.abs(param.grad.numpy()).mean())\n",
        "\n",
        "    if epoch % 1000 == 0:\n",
        "        print(\"epoch\", epoch)\n",
        "        for name, param in mlp_pytorch.named_parameters():\n",
        "            print(name, \"value\", param.data, \"gradient\", param.grad)\n",
        "    optimizer.step()\n",
        "\n",
        "plt.plot(grad_magnitudes)\n",
        "plt.show()\n",
        "visualize_model_probs(mlp_pytorch)"
      ],
      "execution_count": 32,
      "outputs": [
        {
          "output_type": "stream",
          "name": "stdout",
          "text": [
            "epoch 0\n",
            "linear_1.weight value tensor([[ 0.2632, -0.2813],\n",
            "        [-0.4038,  0.2222]]) gradient tensor([[0.0001, 0.0019],\n",
            "        [0.0005, 0.0092]])\n",
            "linear_1.bias value tensor([-0.0525,  0.2563]) gradient tensor([6.9436e-05, 4.3943e-04])\n",
            "linear_2.weight value tensor([[0.1386, 0.2573]]) gradient tensor([[5.8158e-05, 2.4386e-01]])\n",
            "linear_2.bias value tensor([0.3724]) gradient tensor([0.2453])\n",
            "epoch 1000\n",
            "linear_1.weight value tensor([[-0.1465, -0.3590],\n",
            "        [-1.0359, -0.0158]]) gradient tensor([[ 2.8755e-04, -2.3894e-05],\n",
            "        [ 3.3460e-03, -1.2163e-02]])\n",
            "linear_1.bias value tensor([1.3057, 0.0528]) gradient tensor([-0.0008, -0.0003])\n",
            "linear_2.weight value tensor([[1.3056, 0.1449]]) gradient tensor([[-0.0019, -0.0133]])\n",
            "linear_2.bias value tensor([-0.2832]) gradient tensor([0.0465])\n",
            "epoch 2000\n",
            "linear_1.weight value tensor([[-2.3896, -0.0058],\n",
            "        [-2.4774,  0.0129]]) gradient tensor([[ 0.0199,  0.0002],\n",
            "        [ 0.0036, -0.0001]])\n",
            "linear_1.bias value tensor([ 0.4291, -0.2266]) gradient tensor([1.2805e-03, 5.9860e-05])\n",
            "linear_2.weight value tensor([[2.5674, 0.4973]]) gradient tensor([[-0.0076, -0.0085]])\n",
            "linear_2.bias value tensor([-0.9909]) gradient tensor([0.0546])\n",
            "epoch 3000\n",
            "linear_1.weight value tensor([[-3.0579,  0.0053],\n",
            "        [-3.0177,  0.0182]]) gradient tensor([[ 4.8809e-03, -2.4866e-06],\n",
            "        [ 1.0413e-03, -6.0012e-05]])\n",
            "linear_1.bias value tensor([ 0.3010, -0.3004]) gradient tensor([7.2784e-05, 8.9523e-05])\n",
            "linear_2.weight value tensor([[3.4769, 0.6854]]) gradient tensor([[-0.0023, -0.0023]])\n",
            "linear_2.bias value tensor([-1.4603]) gradient tensor([0.0134])\n",
            "epoch 4000\n",
            "linear_1.weight value tensor([[-3.2721,  0.0065],\n",
            "        [-3.2612,  0.0271]]) gradient tensor([[ 0.0009, -0.0038],\n",
            "        [ 0.0004, -0.0008]])\n",
            "linear_1.bias value tensor([ 0.2604, -0.7579]) gradient tensor([-8.3029e-05,  1.4848e-04])\n",
            "linear_2.weight value tensor([[3.7984, 0.7708]]) gradient tensor([[-0.0007, -0.0008]])\n",
            "linear_2.bias value tensor([-1.5859]) gradient tensor([0.0005])\n",
            "epoch 5000\n",
            "linear_1.weight value tensor([[-3.3579,  0.0049],\n",
            "        [-3.4875,  0.0406]]) gradient tensor([[ 3.6938e-04,  8.1770e-07],\n",
            "        [ 3.1985e-04, -4.6823e-05]])\n",
            "linear_1.bias value tensor([ 0.2311, -1.4912]) gradient tensor([2.2195e-05, 1.4160e-04])\n",
            "linear_2.weight value tensor([[3.9684, 0.8426]]) gradient tensor([[-0.0003, -0.0006]])\n",
            "linear_2.bias value tensor([-1.5716]) gradient tensor([-0.0006])\n",
            "epoch 6000\n",
            "linear_1.weight value tensor([[-3.4313e+00,  3.3971e-03],\n",
            "        [-3.8082e+00,  5.1898e-02]]) gradient tensor([[ 2.2213e-04, -1.5594e-05],\n",
            "        [ 2.8019e-04, -2.2984e-05]])\n",
            "linear_1.bias value tensor([ 0.1770, -2.0809]) gradient tensor([2.1746e-05, 6.4887e-05])\n",
            "linear_2.weight value tensor([[4.1035, 0.9477]]) gradient tensor([[-0.0001, -0.0005]])\n",
            "linear_2.bias value tensor([-1.5407]) gradient tensor([-0.0003])\n",
            "epoch 7000\n",
            "linear_1.weight value tensor([[-3.4981e+00,  1.8070e-03],\n",
            "        [-4.2240e+00,  5.8690e-02]]) gradient tensor([[9.9297e-05, 4.7525e-05],\n",
            "        [2.2950e-04, 3.4026e-06]])\n",
            "linear_1.bias value tensor([ 0.1097, -2.3821]) gradient tensor([1.4806e-05, 1.3362e-05])\n",
            "linear_2.weight value tensor([[4.2071, 1.0970]]) gradient tensor([[-5.1176e-05, -4.5691e-04]])\n",
            "linear_2.bias value tensor([-1.5127]) gradient tensor([-0.0002])\n",
            "epoch 8000\n",
            "linear_1.weight value tensor([[-3.5094e+00, -1.1386e-03],\n",
            "        [-4.7336e+00,  6.2886e-02]]) gradient tensor([[-7.5481e-05,  1.1377e-05],\n",
            "        [ 1.9741e-04, -5.0459e-06]])\n",
            "linear_1.bias value tensor([ 0.0721, -2.3921]) gradient tensor([-2.7185e-06, -4.3232e-06])\n",
            "linear_2.weight value tensor([[4.2248, 1.3023]]) gradient tensor([[ 3.2609e-05, -4.0040e-04]])\n",
            "linear_2.bias value tensor([-1.4933]) gradient tensor([-3.8909e-05])\n",
            "epoch 9000\n",
            "linear_1.weight value tensor([[-3.0651, -0.0172],\n",
            "        [-5.4550,  0.0860]]) gradient tensor([[-1.3049e-03,  1.2397e-04],\n",
            "        [ 2.8635e-04, -5.1735e-05]])\n",
            "linear_1.bias value tensor([ 0.6186, -2.7401]) gradient tensor([-4.2940e-04,  9.2197e-05])\n",
            "linear_2.weight value tensor([[3.7175, 1.6661]]) gradient tensor([[ 0.0006, -0.0008]])\n",
            "linear_2.bias value tensor([-1.5554]) gradient tensor([0.0010])\n",
            "epoch 10000\n",
            "linear_1.weight value tensor([[-1.9108, -0.1468],\n",
            "        [-7.0605,  0.1143]]) gradient tensor([[-1.1512e-03,  2.8039e-04],\n",
            "        [ 1.1450e-03,  7.9605e-06]])\n",
            "linear_1.bias value tensor([ 2.5805, -2.4319]) gradient tensor([-0.0014, -0.0002])\n",
            "linear_2.weight value tensor([[2.6116, 3.2136]]) gradient tensor([[ 0.0003, -0.0021]])\n",
            "linear_2.bias value tensor([-1.6273]) gradient tensor([-0.0003])\n",
            "epoch 11000\n",
            "linear_1.weight value tensor([[-1.1018, -0.3016],\n",
            "        [-8.2384,  0.1152]]) gradient tensor([[-1.3583e-03,  9.3977e-04],\n",
            "        [ 8.5983e-04,  7.1361e-06]])\n",
            "linear_1.bias value tensor([ 3.0809, -1.5880]) gradient tensor([ 3.0654e-05, -2.3925e-04])\n",
            "linear_2.weight value tensor([[2.2260, 3.2710]]) gradient tensor([[-9.4065e-05,  3.3718e-04]])\n",
            "linear_2.bias value tensor([-1.5655]) gradient tensor([-0.0003])\n",
            "epoch 12000\n",
            "linear_1.weight value tensor([[-0.0450, -0.5825],\n",
            "        [-9.1111,  0.1197]]) gradient tensor([[-8.0895e-04,  2.4962e-05],\n",
            "        [ 5.9495e-04, -4.7118e-06]])\n",
            "linear_1.bias value tensor([ 3.5136, -1.1993]) gradient tensor([-1.8472e-04,  1.2472e-05])\n",
            "linear_2.weight value tensor([[2.2741, 3.1264]]) gradient tensor([[2.6348e-05, 4.2716e-05]])\n",
            "linear_2.bias value tensor([-1.5442]) gradient tensor([6.9577e-06])\n",
            "epoch 13000\n",
            "linear_1.weight value tensor([[ 0.6026, -0.6147],\n",
            "        [-9.9254,  0.1321]]) gradient tensor([[-5.0204e-04,  1.6536e-05],\n",
            "        [ 4.9367e-04,  1.2409e-05]])\n",
            "linear_1.bias value tensor([ 3.7795, -1.3048]) gradient tensor([-1.0740e-04,  9.5814e-06])\n",
            "linear_2.weight value tensor([[2.1971, 3.0866]]) gradient tensor([[6.7835e-06, 1.9931e-05]])\n",
            "linear_2.bias value tensor([-1.5533]) gradient tensor([4.2026e-06])\n",
            "epoch 14000\n",
            "linear_1.weight value tensor([[  1.1651,  -0.6638],\n",
            "        [-10.7350,   0.1448]]) gradient tensor([[-3.1367e-04,  1.8047e-05],\n",
            "        [ 4.1637e-04, -7.9470e-06]])\n",
            "linear_1.bias value tensor([ 4.1387, -1.4225]) gradient tensor([-1.2330e-04,  6.1193e-06])\n",
            "linear_2.weight value tensor([[2.1553, 3.0554]]) gradient tensor([[2.9141e-06, 9.2903e-06]])\n",
            "linear_2.bias value tensor([-1.5600]) gradient tensor([1.0235e-06])\n",
            "epoch 15000\n",
            "linear_1.weight value tensor([[  1.6614,  -0.7499],\n",
            "        [-11.5547,   0.1579]]) gradient tensor([[-1.9169e-04,  1.7414e-05],\n",
            "        [ 3.6057e-04, -2.5891e-06]])\n",
            "linear_1.bias value tensor([ 4.7790, -1.5593]) gradient tensor([-1.4958e-04,  4.5227e-06])\n",
            "linear_2.weight value tensor([[2.1241, 3.0298]]) gradient tensor([[1.2201e-06, 4.7708e-06]])\n",
            "linear_2.bias value tensor([-1.5645]) gradient tensor([5.3598e-07])\n",
            "epoch 16000\n",
            "linear_1.weight value tensor([[  2.1135,  -0.8641],\n",
            "        [-12.3931,   0.1715]]) gradient tensor([[-1.1903e-04,  1.1932e-05],\n",
            "        [ 3.1668e-04, -3.0657e-05]])\n",
            "linear_1.bias value tensor([ 5.6359, -1.7104]) gradient tensor([-1.4951e-04,  2.1493e-06])\n",
            "linear_2.weight value tensor([[2.1068, 3.0083]]) gradient tensor([[2.3050e-07, 1.4999e-06]])\n",
            "linear_2.bias value tensor([-1.5675]) gradient tensor([-1.3623e-06])\n",
            "epoch 17000\n",
            "linear_1.weight value tensor([[  2.5244,  -0.9841],\n",
            "        [-13.2440,   0.1853]]) gradient tensor([[-6.8433e-05,  6.9626e-06],\n",
            "        [ 2.7796e-04, -4.8263e-05]])\n",
            "linear_1.bias value tensor([ 6.5280, -1.8641]) gradient tensor([-1.3243e-04,  6.5775e-07])\n",
            "linear_2.weight value tensor([[2.1023, 2.9896]]) gradient tensor([[-1.2577e-07, -2.1725e-07]])\n",
            "linear_2.bias value tensor([-1.5698]) gradient tensor([-2.4296e-06])\n",
            "epoch 18000\n",
            "linear_1.weight value tensor([[  2.8580,  -1.0997],\n",
            "        [-14.1006,   0.1991]]) gradient tensor([[-3.2342e-05,  6.3428e-06],\n",
            "        [ 2.4748e-04,  2.4154e-04]])\n",
            "linear_1.bias value tensor([ 7.3879, -2.0192]) gradient tensor([-1.1043e-04,  8.0690e-06])\n",
            "linear_2.weight value tensor([[2.1064, 2.9732]]) gradient tensor([[6.6168e-07, 8.8109e-06]])\n",
            "linear_2.bias value tensor([-1.5713]) gradient tensor([1.3734e-05])\n",
            "epoch 19000\n",
            "linear_1.weight value tensor([[  3.0812,  -1.2075],\n",
            "        [-14.9629,   0.2130]]) gradient tensor([[-1.2003e-05,  2.8843e-06],\n",
            "        [ 2.1764e-04,  5.3233e-05]])\n",
            "linear_1.bias value tensor([ 8.2069, -2.1791]) gradient tensor([-8.9199e-05,  2.5515e-06])\n",
            "linear_2.weight value tensor([[2.1163, 2.9589]]) gradient tensor([[1.2385e-07, 2.2421e-06]])\n",
            "linear_2.bias value tensor([-1.5721]) gradient tensor([3.2617e-06])\n"
          ]
        },
        {
          "output_type": "display_data",
          "data": {
            "image/png": "[encoded data removed]",
            "text/plain": [
              "<Figure size 432x288 with 1 Axes>"
            ]
          },
          "metadata": {
            "needs_background": "light"
          }
        },
        {
          "output_type": "display_data",
          "data": {
            "image/png": "[encoded data removed]",
            "text/plain": [
              "<Figure size 576x432 with 2 Axes>"
            ]
          },
          "metadata": {
            "needs_background": "light"
          }
        }
      ]
    },
    {
      "cell_type": "markdown",
      "metadata": {
        "id": "nsGlCr6EyWUE"
      },
      "source": [
        "The next code block visualizes the hidden layer activations."
      ]
    },
    {
      "cell_type": "code",
      "metadata": {
        "id": "Bg-tANIOwwWW",
        "outputId": "e673b0c8-51ff-4f04-af5e-f4a27752c88c",
        "colab": {
          "base_uri": "https://localhost:8080/",
          "height": 338
        }
      },
      "source": [
        "f = plt.figure(figsize=(12, 5))\n",
        "xx, yy = np.mgrid[-.1:1.1:.01, 0:85:.1]\n",
        "grid = np.c_[xx.ravel(), yy.ravel()]\n",
        "hidden_units = mlp_pytorch.hidden(Variable(torch.Tensor(grid))).detach().numpy()\n",
        "for i in range(2):\n",
        "    ax = f.add_subplot(1,2,i+1)\n",
        "    contour = ax.contourf(xx, yy, hidden_units[:,i].reshape(xx.shape), 25, cmap=\"RdBu\",\n",
        "                        vmin=0, vmax=1)\n",
        "\n",
        "    ax.scatter(experiment_1_data['male'], experiment_1_data['Age'], c=experiment_1_outputs, s=50,\n",
        "            cmap=\"RdBu\", vmin=-.2, vmax=1.2,\n",
        "            edgecolor=\"white\", linewidth=1)\n",
        "    ax_c = f.colorbar(contour)\n",
        "    ax_c.set_label(\"learned feature %d\" %(i+1))\n",
        "    ax_c.set_ticks([0, .25, .5, .75, 1])\n",
        "\n",
        "    ax.set(xlim=(-.1, 1.1),\n",
        "        ylim=(0, 85),\n",
        "        xlabel=\"is male\", ylabel=\"age (years)\")\n",
        "plt.show()"
      ],
      "execution_count": 33,
      "outputs": [
        {
          "output_type": "display_data",
          "data": {
            "image/png": "[encoded data removed]",
            "text/plain": [
              "<Figure size 864x360 with 4 Axes>"
            ]
          },
          "metadata": {
            "needs_background": "light"
          }
        }
      ]
    },
    {
      "cell_type": "code",
      "metadata": {
        "id": "l3HTkn73xCMQ"
      },
      "source": [
        ""
      ],
      "execution_count": null,
      "outputs": []
    }
  ]
}